{
 "cells": [
  {
   "cell_type": "markdown",
   "metadata": {},
   "source": [
    "Before we begin:\n",
    "\n",
    "<span style=\"font-size:1.5em;\">Goal:</span> By the end of this lesson you should:\n",
    "\n",
    "- Understand what an Object is, and the basics of Object Oriented Programming\n",
    "- Know which built-in data types are available to you and how they can be used\n",
    "- Have the foundations for our next lesson on Control Flow\n",
    "\n",
    "<span style=\"color:Red\">**Red Text**</span> is used to highlight the most important lessons and takeaways\n",
    "\n",
    "<span style=\"color:MediumBlue\">Blue Text</span> is used to highlight info that is generally helpful to know, but is not strictly necessary to understand in-depth or commit to memory\n",
    "\n",
    "<span style=\"color:MediumSeaGreen\">Green Text</span> is used to highlight really granular information that you can safely ignore. It's there for reference later if helpful\n",
    "\n",
    "<ins>Underlined Text</ins> is used for Glossary Terms"
   ]
  },
  {
   "cell_type": "markdown",
   "metadata": {},
   "source": [
    "# Data Types & Structures\n",
    "\n",
    "Like any programming language, Python uses several built-in data types and structures, which store numbers, text, and other information needed to perform any computation. Basic data types are sometimes called primitive types, because they are the building blocks of more complex structures. <span style=\"color:MediumBlue\">Every data type has its own set of instructions to parse 1s and 0s from your computer's memory into human-readable information.</span>\n",
    "\n",
    "Python is unlike other many other languages in that it <span style=\"color:MediumBlue\">doesn't have primitives</span> as they are traditionally defined - <span style=\"color:Red\">**everything is an <ins>object</ins>, including built-in types.**</span>"
   ]
  },
  {
   "cell_type": "markdown",
   "metadata": {},
   "source": [
    "## Glossary"
   ]
  },
  {
   "cell_type": "markdown",
   "metadata": {},
   "source": [
    "- assign : `=`, setting the value of a variable\n",
    "- immutable : unable to be changed. Once the object is created, it's data remains unchanged. New Objects must be made to enact any kind of change\n",
    "- indexable : aka subscriptable. Something that has a sequential structure/order and it's members can be retrieved via that order using an index, \"give me the third one\"\n",
    "- in-place : operating on the original thing. Works for mutable objects because you don't need to create a new Object\n",
    "- instantiation : to create an instance of, aka to create an Object. Done using class constructors for non-built-in types\n",
    "- iterable : able to be iterated over / able to generate an Iterator object (more info in a future lecture). Can be parsed in sequence: \"look at the first value, then the second, then the third\"\n",
    "- logical : tied to boolean logic; decision making based on conditional \"if this is true, do this thing, otherwise do the other thing\"\n",
    "- method : a function / action. The things that objects do. (more in a future lecture)\n",
    "- object : a thing. Specifically a thing that has stuff and does stuff. They \"perform\" the methods. Everything is an object in Python\n",
    "- return : the \"response\" to a call. If I ask you how tall you are and you give me a number, that's the return"
   ]
  },
  {
   "cell_type": "markdown",
   "metadata": {},
   "source": [
    "## Our Project - Building Blocks\n",
    "\n",
    "\n",
    "<img src=\"https://m.media-amazon.com/images/I/71Q23MoTM8L.jpg\" alt=\"drawing\" width=\"400\"/>\n",
    "\n",
    "In this notebook we'll be looking at the building blocks of programming in python, so it feels apt to use\n",
    "what we learn to model physical building blocks (simple solids)"
   ]
  },
  {
   "cell_type": "markdown",
   "metadata": {},
   "source": [
    "## Before we get into basic types and structures, some key programming tools:"
   ]
  },
  {
   "cell_type": "markdown",
   "metadata": {},
   "source": [
    "### Assignment, aka `=`\n",
    "\n",
    "Using the `=` symbol is called <ins>assignment</ins>. It looks like:\n",
    "\n",
    "    x = \"Hello!\"\n",
    "\n",
    "<span style=\"color:Red\">`=` ***assigns* a value to a variable name**</span>\n",
    "\n",
    "<ins>Assignment</ins> tells Python that whenever the variable name on the left side of assignment (`x` above) is used, the value (read: Object, but more on that later) on the right is \"substituted\" in \n",
    "\n",
    "Sometimes this is phrased as \"set x to 'hello'\", and the result could be described as \"x points to 'hello'\" or \"x holds 'hello'\""
   ]
  },
  {
   "cell_type": "code",
   "execution_count": 7,
   "metadata": {},
   "outputs": [],
   "source": [
    "# Base python does not understand physical measurements. \n",
    "# Unless using a package that can track units for you, you the programmer \n",
    "# are responsible for keeping track of the scale conversion between real life\n",
    "# measurements and values and their simulated/digital counterparts.\n",
    "\n",
    "# The 23 below could be 23 inches, 23 meters, 23 dogs, 23 decibels; Python has\n",
    "# no concept of the difference between these. You the programmer need to choose\n",
    "# what 23 means physically/mathematically and keep that scale in mind when you use\n",
    "# that data\n",
    "\n",
    "rect_prism_height = 23 # arbitrary distance units"
   ]
  },
  {
   "cell_type": "markdown",
   "metadata": {},
   "source": [
    "### `print()` - your best friend"
   ]
  },
  {
   "cell_type": "markdown",
   "metadata": {},
   "source": [
    "<span style=\"color:Red\">**The `print()` function will (to the best of its ability) convert a Python Object to a human-readable format and output it to the user**</span>\n",
    "\n",
    "In it's simplest use, `print()` is used with strings:"
   ]
  },
  {
   "cell_type": "code",
   "execution_count": null,
   "metadata": {},
   "outputs": [],
   "source": [
    "print(\"Hello World!\")"
   ]
  },
  {
   "cell_type": "markdown",
   "metadata": {},
   "source": [
    "If `print()` is called with ONLY a non-string Object, it will convert it to a string, as below\n",
    "\n",
    "<span style=\"color:MediumSeaGreen\"> It works by using an Object's `__str__()` and/or `__repr__()` functions, which tell Python how to represent the object to people</span>"
   ]
  },
  {
   "cell_type": "code",
   "execution_count": 3,
   "metadata": {},
   "outputs": [
    {
     "name": "stdout",
     "output_type": "stream",
     "text": [
      "23\n"
     ]
    }
   ],
   "source": [
    "print(rect_prism_height)"
   ]
  },
  {
   "cell_type": "markdown",
   "metadata": {},
   "source": [
    "Objects can be directly combined with strings in a `print()` statement, but only if they are cast to strings before being concatenated with the raw strings:"
   ]
  },
  {
   "cell_type": "code",
   "execution_count": null,
   "metadata": {},
   "outputs": [],
   "source": [
    "print(\"The prism is \" + str(rect_prism_height) + \" units tall!\")"
   ]
  },
  {
   "cell_type": "markdown",
   "metadata": {},
   "source": [
    "Trying to combine them *without* casting to string will throw an error:"
   ]
  },
  {
   "cell_type": "code",
   "execution_count": null,
   "metadata": {},
   "outputs": [],
   "source": [
    "print(\"The prism is \" + rect_prism_height + \" units tall!\")"
   ]
  },
  {
   "cell_type": "markdown",
   "metadata": {},
   "source": [
    "## Overview of Python types covered in this tutorial:\n",
    "\n",
    "Built-In Types:\n",
    "- `int` (integer)\n",
    "- `float` (floating point number)\n",
    "- `bool` (boolean)\n",
    "- `str` (string)\n",
    "- `list`\n",
    "- `tuple`\n",
    "- `dict` (dictionary)\n",
    "- `object` (base Python type)\n",
    "- `None` \n",
    "\n",
    "Other python types that are rarely used:\n",
    "- `complex` (complex-valued floating point number)\n",
    "- `set`\n",
    "- `frozenset`\n",
    "- `bytes`\n",
    "- `bytearray`\n",
    "- `memoryview`\n",
    "\n",
    "Useful 3rd Party Basic Structures\n",
    "- `np.ndarray` (third-party, not a builtin Python type)"
   ]
  },
  {
   "cell_type": "markdown",
   "metadata": {},
   "source": [
    "***\n",
    "## Numeric types"
   ]
  },
  {
   "cell_type": "markdown",
   "metadata": {
    "slideshow": {
     "slide_type": "slide"
    }
   },
   "source": [
    "The basic data numeric types (`int`, `float`, and `boolean`) are similar to those found in other languages\n",
    "\n",
    "### Integers (``int``)\n",
    "\n",
    "<span style=\"color:Red\">**Integers are used to represent $\\mathbb{Z}$ integer values**</span>\n",
    "\n",
    "They are useful for any kind of countable value: a literal count of something, an index value, category flagging/signaling\n",
    "\n",
    "![texte](https://media.geeksforgeeks.org/wp-content/uploads/20200109203804/GFG-sgned-4-f.png)\n",
    "\n",
    "In languages like C, integers have a fixed size determined by their type (ex: short int can be as small as 16 bits, but a long int can be no smaller than 32 bits)\n",
    "\n",
    "In Python, however, <span style=\"color:Red\">**integers are capable of supporting an arbitrary size**</span> because they are <span style=\"font-size:1.25em;\"><ins>Objects</ins></span>\n",
    "\n",
    "<span style=\"color:MediumBlue\">These integer objects store overhead information about the size (in memory) of the integer, allowing it to be as large as desired.</span>\n",
    "\n",
    "<span style=\"color:MediumBlue\">Integers are <ins>immutable</ins> - numerical operations create new integer objects and mark old/unreferenced integers for garbage collection.</span>"
   ]
  },
  {
   "cell_type": "code",
   "execution_count": 1,
   "metadata": {
    "ExecuteTime": {
     "end_time": "2022-05-21T21:12:35.782544Z",
     "start_time": "2022-05-21T21:12:35.777741Z"
    },
    "slideshow": {
     "slide_type": "-"
    }
   },
   "outputs": [],
   "source": [
    "i = 0\n",
    "j = -52\n",
    "k = 10 ** 1000"
   ]
  },
  {
   "cell_type": "code",
   "execution_count": null,
   "metadata": {
    "ExecuteTime": {
     "end_time": "2022-05-21T21:14:08.875974Z",
     "start_time": "2022-05-21T21:14:08.870440Z"
    }
   },
   "outputs": [],
   "source": [
    "# Print number of bytes allocated (this method works for any Python object)\n",
    "print(i.__sizeof__())\n",
    "print(j.__sizeof__())\n",
    "print(k.__sizeof__())"
   ]
  },
  {
   "cell_type": "markdown",
   "metadata": {},
   "source": [
    "However, don't get used to using extremely large numbers like $10^{1000}$. For any real computation, you will likely use third-party packages like NumPy, which defines its own integer types: `np.int32` and `np.int64`, which have maximum values of $\\sim2 \\times 10^9$ and $\\sim9 \\times 10^{18}$, respectively."
   ]
  },
  {
   "cell_type": "markdown",
   "metadata": {},
   "source": [
    "<span style=\"color:Red\">**Arithmetic Operators:**</span>\n",
    "\n",
    "| Operator | Description | &nbsp; Example |\n",
    "| --- | --- | --- |\n",
    "| + | ADD | &nbsp; a = b + c |\n",
    "| - | SUBTRACT | &nbsp; a = b - c |\n",
    "| * | MULTIPLY | &nbsp; a = b*c |\n",
    "| ** | EXPONENT | &nbsp; a = b**c |\n",
    "| / | Floating-point DIVIDE | &nbsp; a = b / c |\n",
    "| // | Integer DIVIDE | &nbsp; a = b //c |\n",
    "| % | MODULO | &nbsp; a = b%c |"
   ]
  },
  {
   "cell_type": "code",
   "execution_count": null,
   "metadata": {},
   "outputs": [],
   "source": [
    "# Let's use integers to calculate the volume of our prism (still in arbitrary units)\n",
    "\n",
    "# Start by **assigning** values:\n",
    "rect_prism_height = 23\n",
    "rect_prism_width = 10\n",
    "rect_prism_length = 14\n",
    "\n",
    "# Then use multiplication to calculate the volume:\n",
    "rect_prism_volume = rect_prism_length * rect_prism_width * rect_prism_height\n",
    "\n",
    "# Then use the print statement to check the result\n",
    "print(\"The volume of our prism is: \" + str(rect_prism_volume) + \" cubic units\")"
   ]
  },
  {
   "cell_type": "markdown",
   "metadata": {},
   "source": [
    "Feel free to change the values of the side length to see how the volume changes!"
   ]
  },
  {
   "cell_type": "markdown",
   "metadata": {},
   "source": [
    "<span style=\"color:MediumSeaGreen\">**Bitwise Operators:**</span>\n",
    "\n",
    "<span style=\"color:MediumSeaGreen\">In addition to standard numerical operations, integers also support the following bitwise operators.</span>\n",
    "\n",
    "| Operator | Description | &nbsp; Example |\n",
    "| --- | --- | --- |\n",
    "| & | bitwise AND | &nbsp; a = b & c |\n",
    "| \\| | bitwise OR | &nbsp; a = b \\| c |\n",
    "| ~ | bitwise NOT | &nbsp; a = ~b |\n",
    "| ^ | bitwise XOR | &nbsp; a = b ^ c |\n",
    "| << | Arithmetic Shift Left | &nbsp; a = b << c |\n",
    "| >> | Arithmetic Shift Right | &nbsp; a = b >> c |\n",
    "\n",
    "<center><img src=\"https://www.scientecheasy.com/wp-content/uploads/2022/10/python-bitwise-and-operation.png\" alt=\"drawing\" width=\"300\"/></center>\n",
    "\n",
    "Please note that these only work on integers and will not work on floats\n",
    "\n",
    "Bitwise operations in Astronomy are most often only used for control flow - evaluating boolean statements over large amounts of data."
   ]
  },
  {
   "cell_type": "markdown",
   "metadata": {
    "slideshow": {
     "slide_type": "slide"
    }
   },
   "source": [
    "### **Floating point values (``float``)**\n",
    "\n",
    "<span style=\"color:Red\"> **The `float` type is used to store more *precise* numericals than Integers, and is useful for working with $\\mathbb{R}$ real numbers**</span>\n",
    "\n",
    "Decimals are harder to store digitally, primarily due to the density of irrational numbers\n",
    "\n",
    "To represent decimals, we accept some level of imprecision. The fewer bits in memory we use, the greater the imprecision\n",
    "\n",
    "<span style=\"color:MediumBlue\"> Numbers are stored in scientific notation, using base 2 instead of base 10 </span>\n",
    "\n",
    "\n",
    "<img src=\"https://encrypted-tbn0.gstatic.com/images?q=tbn:ANd9GcTuIgrptQHHvbqeF7sZ3YqctSdt1mKZJEiWLg&usqp=CAU\" alt=\"drawing\" width=\"300\"/><img src=\"https://media.geeksforgeeks.org/wp-content/uploads/Single-Precision-IEEE-754-Floating-Point-Standard.jpg\" alt=\"drawing\" width=\"500\"/>\n",
    "\n",
    "Unlike ints, Python floats do not change their memory allocation. They are always 64-bits (a.k.a. double precision)\n",
    "\n",
    "<center><img src=\"https://media.geeksforgeeks.org/wp-content/uploads/Double-Precision-IEEE-754-Floating-Point-Standard-1024x266.jpg\" alt=\"drawing\" width=\"500\"/></center>\n",
    "\n",
    "<span style=\"color:MediumBlue\">Floats are <ins>immutable</ins> - numerical operations create new float objects and mark old/unreferenced floats for garbage collection</span>\n",
    "\n",
    "Some examples below:"
   ]
  },
  {
   "cell_type": "code",
   "execution_count": null,
   "metadata": {
    "ExecuteTime": {
     "end_time": "2022-05-21T21:19:40.755299Z",
     "start_time": "2022-05-21T21:19:40.751265Z"
    },
    "slideshow": {
     "slide_type": "-"
    }
   },
   "outputs": [],
   "source": [
    "a = 4.3\n",
    "b = -5.2111222\n",
    "under_max_float = 1.79e308\n",
    "over_max_float = 1.80e308  # = 2^1024 (too large for Python float. Set to infinity instead)"
   ]
  },
  {
   "cell_type": "code",
   "execution_count": null,
   "metadata": {
    "ExecuteTime": {
     "end_time": "2022-05-21T21:19:43.247519Z",
     "start_time": "2022-05-21T21:19:43.243978Z"
    }
   },
   "outputs": [],
   "source": [
    "print(a, b, under_max_float, over_max_float)"
   ]
  },
  {
   "cell_type": "markdown",
   "metadata": {
    "slideshow": {
     "slide_type": "slide"
    }
   },
   "source": [
    "Manipulating these behaves the way you would expect, so an operation (``+``, ``-``, ``*``, ``**``, etc.) on two values of the same type produces another value of the same type (with one, exception, ``/``, see below), while an operation on two values with different types produces a value of the more 'advanced' type:"
   ]
  },
  {
   "cell_type": "markdown",
   "metadata": {
    "slideshow": {
     "slide_type": "slide"
    }
   },
   "source": [
    "Adding two integers gives an integer:"
   ]
  },
  {
   "cell_type": "code",
   "execution_count": null,
   "metadata": {
    "ExecuteTime": {
     "end_time": "2022-05-21T21:21:56.918616Z",
     "start_time": "2022-05-21T21:21:56.908316Z"
    }
   },
   "outputs": [],
   "source": [
    "1 + 3"
   ]
  },
  {
   "cell_type": "markdown",
   "metadata": {
    "slideshow": {
     "slide_type": "slide"
    }
   },
   "source": [
    "Multiplying two floats gives a float:"
   ]
  },
  {
   "cell_type": "code",
   "execution_count": null,
   "metadata": {
    "ExecuteTime": {
     "end_time": "2022-05-21T21:22:04.330771Z",
     "start_time": "2022-05-21T21:22:04.327008Z"
    }
   },
   "outputs": [],
   "source": [
    "3. * 2."
   ]
  },
  {
   "cell_type": "markdown",
   "metadata": {
    "slideshow": {
     "slide_type": "slide"
    }
   },
   "source": [
    "Multiplying an integer with a float gives a float:"
   ]
  },
  {
   "cell_type": "code",
   "execution_count": null,
   "metadata": {
    "ExecuteTime": {
     "end_time": "2022-05-21T21:22:17.835622Z",
     "start_time": "2022-05-21T21:22:17.831354Z"
    }
   },
   "outputs": [],
   "source": [
    "3 * 9.2"
   ]
  },
  {
   "cell_type": "markdown",
   "metadata": {
    "slideshow": {
     "slide_type": "slide"
    }
   },
   "source": [
    "Most integer operations return another integer. <br>However, the division of two integers gives a float:"
   ]
  },
  {
   "cell_type": "code",
   "execution_count": null,
   "metadata": {
    "ExecuteTime": {
     "end_time": "2022-05-21T21:24:01.189752Z",
     "start_time": "2022-05-21T21:24:01.184688Z"
    }
   },
   "outputs": [],
   "source": [
    "print(3 + 2)\n",
    "print(3 - 2)\n",
    "print(3 * 2)\n",
    "print(3 / 2)"
   ]
  },
  {
   "cell_type": "markdown",
   "metadata": {},
   "source": [
    "<span style=\"color:MediumSeaGreen\">Note that in Python 2.x, this used to return ``1``, not ``1.5`` because integer division rounds the answer down. If you ever need to work with Python 2 code, the safest approach is to add the following line at the top of the script:</span>\n",
    "\n",
    "    from __future__ import division\n",
    "    \n",
    "and the division will then behave like a Python 3 division. Note that in Python 3 (and in Python 2 when using the ``__future__`` import) you can also perform integer division:"
   ]
  },
  {
   "cell_type": "code",
   "execution_count": null,
   "metadata": {
    "ExecuteTime": {
     "end_time": "2022-05-21T21:25:25.133590Z",
     "start_time": "2022-05-21T21:25:25.126983Z"
    }
   },
   "outputs": [],
   "source": [
    "3 // 2"
   ]
  },
  {
   "cell_type": "markdown",
   "metadata": {},
   "source": [
    "#### Exercise 1"
   ]
  },
  {
   "cell_type": "markdown",
   "metadata": {},
   "source": [
    "With Integers, we used a rectangular prism block with integer side lengths.\n",
    "<center><img src=\"https://www.communityplaythings.com/-/media/images/product-images/play/block-play/product-images/g513-set-of-4-unit-block-large-cylinders/g513-primary.ashx?rev=7a375faffad74a44a8baa07f34b1664c&hash=CB493C42EFF2C658760F58752F80795E\" alt=\"drawing\" width=\"300\"/></center>\n",
    "\n",
    "For this exercise, let's be more precise by using `float`s instead of integers, and using a cylinder instead of a rectangular prism.\n",
    "\n",
    "Below, please provide the height and radius of your cylinder block, calculate it's volume, and then print the result. A skeleton has been provided"
   ]
  },
  {
   "cell_type": "code",
   "execution_count": null,
   "metadata": {
    "ExecuteTime": {
     "end_time": "2022-05-21T21:27:42.676237Z",
     "start_time": "2022-05-21T21:27:42.673920Z"
    }
   },
   "outputs": [],
   "source": [
    "# A helpful constant. You can leave this part unchanged\n",
    "import math\n",
    "pi = math.pi\n",
    "\n",
    "# YOUR CODE BELOW\n",
    "r = \n",
    "h = \n",
    "\n",
    "cylinder_volume = \n",
    "\n",
    "print(    )"
   ]
  },
  {
   "cell_type": "markdown",
   "metadata": {},
   "source": [
    "<span style=\"color:Red\">**Special Values for floats:**</span>\n",
    "\n",
    "- <span style=\"color:Red\">`NaN` :  **Not a Number; This is a numeric value that is undefined (for one of many reasons). This is different than the NoneType discussed below**</span>\n",
    "- <span style=\"color:Red\">`inf`/ `-inf` :  **A represenation of infinity and negative infinity**</span>\n",
    "\n",
    "<span style=\"color:MediumSeaGreen\">These values can be tested for using the numpy library `numpy.isnan()`, `numpy.isinf()`, and `numpy.isfinite()`</span>\n",
    "\n",
    "You can also test if a value is a NaN by checking if it equals itself.\n",
    "\n",
    "NaNs do NOT equal themselves, demonstrate below\n",
    "\n",
    "They are often used to indicate bad data for masking purposes"
   ]
  },
  {
   "cell_type": "code",
   "execution_count": 48,
   "metadata": {},
   "outputs": [
    {
     "name": "stdout",
     "output_type": "stream",
     "text": [
      "False\n",
      "False\n",
      "False\n"
     ]
    }
   ],
   "source": [
    "a = float(\"NaN\")\n",
    "b = 4\n",
    "\n",
    "print(a > b)\n",
    "print(a < b)\n",
    "print(a == a)"
   ]
  },
  {
   "cell_type": "markdown",
   "metadata": {},
   "source": [
    "***"
   ]
  },
  {
   "cell_type": "markdown",
   "metadata": {},
   "source": [
    "### Booleans\n",
    "\n",
    "<span style=\"color:Red\"> **The `Boolean` type is used to represent boolean numbers, aka a binary categorical (yes vs no, true vs false, up vs down)**</span>\n",
    "\n",
    "<span style=\"color:MediumBlue\">the Boolean class is a subclass of the Integer class, and are therefore a numeric type in python (and can be handled arithmetically)</span>\n",
    "\n",
    "The boolean data type can only store two values: `True` or `False`. These are useful for <span style=\"color:Red\"> making <ins>logical</ins> decisions in your code</span> (remember to always capitalize the `T` and `F`)\n",
    "\n",
    "<span style=\"color:MediumBlue\">`True` is numerically equivalent to value 1, and `False` is equivalent to 0</span>. The reverse is more complicated and will be discussed in casting below"
   ]
  },
  {
   "cell_type": "code",
   "execution_count": 19,
   "metadata": {
    "ExecuteTime": {
     "end_time": "2022-05-21T21:29:23.835119Z",
     "start_time": "2022-05-21T21:29:23.831541Z"
    }
   },
   "outputs": [],
   "source": [
    "a = True\n",
    "b = False"
   ]
  },
  {
   "cell_type": "code",
   "execution_count": null,
   "metadata": {
    "ExecuteTime": {
     "end_time": "2022-05-21T21:29:24.878613Z",
     "start_time": "2022-05-21T21:29:24.873754Z"
    }
   },
   "outputs": [],
   "source": [
    "print(int(a), int(b))\n",
    "print(a.__sizeof__(), b.__sizeof__())"
   ]
  },
  {
   "cell_type": "code",
   "execution_count": null,
   "metadata": {
    "ExecuteTime": {
     "end_time": "2022-05-21T21:31:57.093283Z",
     "start_time": "2022-05-21T21:31:57.088156Z"
    }
   },
   "outputs": [],
   "source": [
    "# Booleans inherit all methods/operations available to ints\n",
    "print(True + True - (True * False))\n",
    "print(True / True)"
   ]
  },
  {
   "cell_type": "markdown",
   "metadata": {},
   "source": [
    "#### Example: blocks\n",
    "\n",
    "In the case of our blocks, maybe we want to stack blocks\n",
    "\n",
    "In that case, it might be useful to know if a block is on top of another block.\n",
    "\n",
    "Let's imagine three blocks, labeled A and B and C from top to bottom\n",
    "<center><img src=\"https://wallpapers.com/images/hd/block-pictures-1024-x-1024-9bqrsf694npn3mgb.jpg\" alt=\"drawing\" width=\"175\"/></center>\n",
    "\n",
    "And we let each have a boolean that tells Python if there are blocks underneath it:\n"
   ]
  },
  {
   "cell_type": "code",
   "execution_count": null,
   "metadata": {},
   "outputs": [],
   "source": [
    "blocks_under_A = True\n",
    "blocks_under_B = True\n",
    "blocks_under_C = False"
   ]
  },
  {
   "cell_type": "markdown",
   "metadata": {},
   "source": [
    "Later, if we need to determine information such as the height of any given block, we can use these boolean values to guide how we go about calculating that height!"
   ]
  },
  {
   "cell_type": "markdown",
   "metadata": {},
   "source": [
    "#### Boolean Algebra\n",
    "\n",
    "The logical operator keywords `not`, `or`, and `and` take boolean input(s) and return a new boolean\n",
    "\n",
    "A reminder about boolean algebra:\n",
    "\n",
    "| a | &nbsp; `not` a |\n",
    "| --- | --- |\n",
    "| True | &nbsp;False |\n",
    "| False |  &nbsp;True |\n",
    "\n",
    "\n",
    "| a | b | &nbsp; a `and` b |\n",
    "| --- | --- | --- |\n",
    "| True | True | &nbsp;True |\n",
    "| False | True | &nbsp;False |\n",
    "| True | False | &nbsp;False |\n",
    "| False | False | &nbsp; False |\n",
    "\n",
    "\n",
    "| a | b | &nbsp; a `or` b |\n",
    "| --- | --- | --- |\n",
    "| True | True | &nbsp;True |\n",
    "| False | True | &nbsp;True |\n",
    "| True | False | &nbsp;True |\n",
    "| False | False | &nbsp; False |\n",
    "\n",
    "<span style=\"color:MediumSeaGreen\">More complicated logical operations like NOR and NAND can be accomplished as a composite of these operations. XOR can also be accomplished using `^`, or with `!=` \"not equal\", and XNOR can be accomplished with `==`. </span>"
   ]
  },
  {
   "cell_type": "code",
   "execution_count": null,
   "metadata": {
    "ExecuteTime": {
     "end_time": "2022-05-21T21:33:33.495953Z",
     "start_time": "2022-05-21T21:33:33.488469Z"
    }
   },
   "outputs": [],
   "source": [
    "# Remember from above:\n",
    "# a = True\n",
    "# b = False\n",
    "\n",
    "print(not a)\n",
    "print(not b)"
   ]
  },
  {
   "cell_type": "code",
   "execution_count": null,
   "metadata": {
    "ExecuteTime": {
     "end_time": "2022-05-21T21:34:11.101869Z",
     "start_time": "2022-05-21T21:34:11.096340Z"
    }
   },
   "outputs": [],
   "source": [
    "print(a and b)\n",
    "print(a or b)"
   ]
  },
  {
   "cell_type": "code",
   "execution_count": null,
   "metadata": {
    "ExecuteTime": {
     "end_time": "2022-05-21T21:34:15.778502Z",
     "start_time": "2022-05-21T21:34:15.771813Z"
    }
   },
   "outputs": [],
   "source": [
    "(b and (a or b)) or (b and a)"
   ]
  },
  {
   "cell_type": "code",
   "execution_count": null,
   "metadata": {
    "ExecuteTime": {
     "end_time": "2022-05-21T21:34:38.050959Z",
     "start_time": "2022-05-21T21:34:38.044981Z"
    }
   },
   "outputs": [],
   "source": [
    "(False and (True or False) or (False and True))"
   ]
  },
  {
   "cell_type": "markdown",
   "metadata": {},
   "source": [
    "As mentioned above, Booleans are most useful for logical decision making, aka conditional code execution.\n",
    "\n",
    "We will get into more detail about <ins>control flow</ins> in the next lecture, but an example is provided below:"
   ]
  },
  {
   "cell_type": "code",
   "execution_count": null,
   "metadata": {
    "ExecuteTime": {
     "end_time": "2022-05-21T21:35:34.828146Z",
     "start_time": "2022-05-21T21:35:34.822529Z"
    }
   },
   "outputs": [],
   "source": [
    "if b:\n",
    "    print(\"This code executes if condition b is True\")\n",
    "elif not a:\n",
    "    print(\"This code executes if conditions a and b are both False\")\n",
    "else:\n",
    "    assert a\n",
    "    assert not b\n",
    "    print(\"This code executes if a is True and b is False\")"
   ]
  },
  {
   "cell_type": "markdown",
   "metadata": {},
   "source": [
    "Standard comparison operators can also produce booleans:"
   ]
  },
  {
   "cell_type": "code",
   "execution_count": null,
   "metadata": {
    "ExecuteTime": {
     "end_time": "2022-05-21T21:37:21.119142Z",
     "start_time": "2022-05-21T21:37:21.114122Z"
    }
   },
   "outputs": [],
   "source": [
    "1 == 3"
   ]
  },
  {
   "cell_type": "code",
   "execution_count": null,
   "metadata": {
    "ExecuteTime": {
     "end_time": "2022-05-21T21:37:28.632939Z",
     "start_time": "2022-05-21T21:37:28.629837Z"
    }
   },
   "outputs": [],
   "source": [
    "1 != 3"
   ]
  },
  {
   "cell_type": "code",
   "execution_count": null,
   "metadata": {
    "ExecuteTime": {
     "end_time": "2022-05-21T21:37:40.884448Z",
     "start_time": "2022-05-21T21:37:40.878912Z"
    }
   },
   "outputs": [],
   "source": [
    "3 > 2"
   ]
  },
  {
   "cell_type": "code",
   "execution_count": null,
   "metadata": {
    "ExecuteTime": {
     "end_time": "2022-05-21T21:37:45.995966Z",
     "start_time": "2022-05-21T21:37:45.991271Z"
    }
   },
   "outputs": [],
   "source": [
    "3 <= 3.4"
   ]
  },
  {
   "cell_type": "markdown",
   "metadata": {
    "ExecuteTime": {
     "end_time": "2022-05-18T07:50:20.160553Z",
     "start_time": "2022-05-18T07:50:20.152659Z"
    }
   },
   "source": [
    "Various other functions may also return booleans. Here is a useful builtin function for checking if a variable is the type you were expecting: `isinstance()`"
   ]
  },
  {
   "cell_type": "code",
   "execution_count": null,
   "metadata": {
    "ExecuteTime": {
     "end_time": "2022-05-21T21:40:06.623280Z",
     "start_time": "2022-05-21T21:40:06.618325Z"
    }
   },
   "outputs": [],
   "source": [
    "x = 1.0\n",
    "if isinstance(x, int):\n",
    "    print(\"x is an int\")\n",
    "elif isinstance(x, float):\n",
    "    print(\"x is a float\")\n",
    "else:\n",
    "    print(\"x is a\", type(x))"
   ]
  },
  {
   "cell_type": "code",
   "execution_count": null,
   "metadata": {
    "ExecuteTime": {
     "end_time": "2022-05-21T21:40:28.751913Z",
     "start_time": "2022-05-21T21:40:28.745886Z"
    }
   },
   "outputs": [],
   "source": [
    "# Note, objects can be instances of multiple classes simultaneously\n",
    "# For example, all objects are instances of the \"object\" class\n",
    "print(isinstance(x, float))\n",
    "print(isinstance(x, object))"
   ]
  },
  {
   "cell_type": "markdown",
   "metadata": {},
   "source": [
    "***\n",
    "## Sequences\n",
    "\n",
    "The primary built-in sequence types are String, List, Tuple, and Range, which all support the following useful methods:\n",
    "\n",
    "| Operator | Description | &nbsp; Example |\n",
    "| --- | --- | --- |\n",
    "| `len` | <span style=\"color:Red\">**length of sequence aka how many members**</span> | &nbsp; `len(a)` |\n",
    "| `min` | <span style=\"color:MediumBlue\">return smallest element, evaluated using built-in comparison operators</span> | &nbsp; `min(a)` |\n",
    "| `max` | <span style=\"color:MediumBlue\">return largest element, evaluated using built-in comparison operators</span> | &nbsp; `max(a)` |\n",
    "| `count` | <span style=\"color:MediumBlue\">total # of members of a sequence that \"`==`\" the input object</span> | &nbsp; `a.count(b)` |\n",
    "| `index` | <span style=\"color:MediumBlue\">index of first members of a sequence that \"`==`\"s the input object</span> | &nbsp; `a.index(b)` |\n",
    "| `in` | <span style=\"color:Red\">**returns `True` if a member of the sequence \"`==`\"s the given object**</span> | &nbsp; `b in a` |\n",
    "| `+` | <span style=\"color:MediumBlue\">concatenates two sequences</span>| &nbsp; `a + b` |\n",
    "\n",
    "\n",
    "<span style=\"color:MediumBlue\">Sequences are all ordered making them both <ins>subscriptable</ins> and <ins>iterable</ins>"
   ]
  },
  {
   "cell_type": "markdown",
   "metadata": {},
   "source": [
    "### Strings"
   ]
  },
  {
   "cell_type": "markdown",
   "metadata": {
    "slideshow": {
     "slide_type": "slide"
    }
   },
   "source": [
    "<span style=\"color:Red\">**Strings (`str`) are used to represent text**</span>\n",
    "\n",
    "<span style=\"color:MediumSeaGreen\">Strings (``str``) are sequences of Unicode characters:</span>\n",
    "\n",
    "The one of the first code blocks we ran in this lesson:\n",
    "\n",
    "    print(\"Hello World\")\n",
    "\n",
    "`\"Hello World\"` is a string! <span style=\"color:MediumSeaGreen\"> We just never set a variable to that name, so it only ever temporarily existed in the context of the print statement</span>"
   ]
  },
  {
   "cell_type": "code",
   "execution_count": null,
   "metadata": {
    "ExecuteTime": {
     "end_time": "2022-05-21T21:42:08.236684Z",
     "start_time": "2022-05-21T21:42:08.232730Z"
    }
   },
   "outputs": [],
   "source": [
    "s = \"Spam egg spam spam\"\n",
    "print(s)"
   ]
  },
  {
   "cell_type": "markdown",
   "metadata": {
    "slideshow": {
     "slide_type": "slide"
    }
   },
   "source": [
    "<span style=\"color:MediumBlue\">You can use either single quotes (``'``), double quotes (``\"``), or triple quotes (``'''`` or ``\"\"\"``) to enclose a string </span> (the last one is used for multi-line strings). To include single or double quotes inside a string, you can either use the opposite quote to enclose the string:\n"
   ]
  },
  {
   "cell_type": "code",
   "execution_count": null,
   "metadata": {
    "ExecuteTime": {
     "end_time": "2022-05-21T21:43:05.597553Z",
     "start_time": "2022-05-21T21:43:05.594176Z"
    },
    "slideshow": {
     "slide_type": "fragment"
    }
   },
   "outputs": [],
   "source": [
    "print(\"I'm\")"
   ]
  },
  {
   "cell_type": "code",
   "execution_count": null,
   "metadata": {
    "ExecuteTime": {
     "end_time": "2022-05-21T21:43:15.736584Z",
     "start_time": "2022-05-21T21:43:15.732312Z"
    },
    "slideshow": {
     "slide_type": "fragment"
    }
   },
   "outputs": [],
   "source": [
    "print('\"hello\"')"
   ]
  },
  {
   "cell_type": "markdown",
   "metadata": {
    "slideshow": {
     "slide_type": "fragment"
    }
   },
   "source": [
    "or you can *escape* them\n",
    "\n",
    "<span style=\"color:MediumBlue\"><ins>Escape Sequences</ins> allow you to add \"special characters\" to strings.</span>\n",
    "\n",
    "Useful examples include:\n",
    "- `\\t` : tab-character, adds a tab-sized spacing (typically equivalent to 4 spaces)\n",
    "- `\\n` : newline character, tells the print statement to go to the next line\n",
    "- `\\\\` : backslash character\n",
    "- `\\'` or `\\\"` : prints the apostrophe or quotation mark (instead of ending the string)"
   ]
  },
  {
   "cell_type": "code",
   "execution_count": null,
   "metadata": {
    "ExecuteTime": {
     "end_time": "2022-05-21T21:44:16.155824Z",
     "start_time": "2022-05-21T21:44:16.150917Z"
    },
    "slideshow": {
     "slide_type": "fragment"
    }
   },
   "outputs": [],
   "source": [
    "print('I\\'m')"
   ]
  },
  {
   "cell_type": "code",
   "execution_count": null,
   "metadata": {
    "ExecuteTime": {
     "end_time": "2022-05-21T21:44:21.639730Z",
     "start_time": "2022-05-21T21:44:21.636164Z"
    },
    "slideshow": {
     "slide_type": "fragment"
    }
   },
   "outputs": [],
   "source": [
    "print(\"\\\"hello\\\"\")"
   ]
  },
  {
   "cell_type": "markdown",
   "metadata": {
    "slideshow": {
     "slide_type": "slide"
    }
   },
   "source": [
    "As a kind of Sequence, Strings are subscriptable\n",
    "\n",
    "<span style=\"color:MediumBlue\">You can access individual characters or chunks of characters using index notation with square brackets``[]``, also called slicing:</span>"
   ]
  },
  {
   "cell_type": "code",
   "execution_count": null,
   "metadata": {
    "ExecuteTime": {
     "end_time": "2022-05-21T21:44:33.958409Z",
     "start_time": "2022-05-21T21:44:33.952410Z"
    },
    "scrolled": true
   },
   "outputs": [],
   "source": [
    "s[5]"
   ]
  },
  {
   "cell_type": "markdown",
   "metadata": {},
   "source": [
    "<span style=\"color:Red\">Note that in Python, indexing is ***zero-based***, which means that the **first element in a list is zero:**</span>\n",
    "<center><img src=\"https://res.cloudinary.com/practicaldev/image/fetch/s--A7oqOWqx--/c_limit%2Cf_auto%2Cfl_progressive%2Cq_auto%2Cw_880/https://thepracticaldev.s3.amazonaws.com/i/1wr90mjnil60r7226bgq.png\" alt=\"drawing\" width=\"300\"/></center>"
   ]
  },
  {
   "cell_type": "code",
   "execution_count": null,
   "metadata": {
    "ExecuteTime": {
     "end_time": "2022-05-21T21:45:53.744421Z",
     "start_time": "2022-05-21T21:45:53.740241Z"
    }
   },
   "outputs": [],
   "source": [
    "p = \"Python\"\n",
    "p[0]"
   ]
  },
  {
   "cell_type": "markdown",
   "metadata": {
    "slideshow": {
     "slide_type": "slide"
    }
   },
   "source": [
    "Strings are <ins>immutable</ins>, that is you cannot change the value of certain characters without creating a new string:"
   ]
  },
  {
   "cell_type": "code",
   "execution_count": null,
   "metadata": {
    "ExecuteTime": {
     "end_time": "2022-05-21T21:47:17.448608Z",
     "start_time": "2022-05-21T21:47:17.439383Z"
    }
   },
   "outputs": [],
   "source": [
    "s[5] = 'r'"
   ]
  },
  {
   "cell_type": "markdown",
   "metadata": {},
   "source": [
    "You can easily find the length of a string:"
   ]
  },
  {
   "cell_type": "code",
   "execution_count": null,
   "metadata": {
    "ExecuteTime": {
     "end_time": "2022-05-21T21:47:40.180680Z",
     "start_time": "2022-05-21T21:47:40.175801Z"
    }
   },
   "outputs": [],
   "source": [
    "len(s)"
   ]
  },
  {
   "cell_type": "markdown",
   "metadata": {
    "slideshow": {
     "slide_type": "slide"
    }
   },
   "source": [
    "and you can use the ``+`` operator (concatenation) to combine strings:"
   ]
  },
  {
   "cell_type": "code",
   "execution_count": null,
   "metadata": {
    "ExecuteTime": {
     "end_time": "2022-05-21T21:49:42.366341Z",
     "start_time": "2022-05-21T21:49:42.359479Z"
    }
   },
   "outputs": [],
   "source": [
    "\"hello,\" + \" \" + \"world! \" + s"
   ]
  },
  {
   "cell_type": "code",
   "execution_count": null,
   "metadata": {
    "ExecuteTime": {
     "end_time": "2022-05-21T21:50:16.026663Z",
     "start_time": "2022-05-21T21:50:16.021865Z"
    }
   },
   "outputs": [],
   "source": [
    "# string s has remained unchanged\n",
    "s"
   ]
  },
  {
   "cell_type": "markdown",
   "metadata": {
    "slideshow": {
     "slide_type": "slide"
    }
   },
   "source": [
    "<span style=\"color:MediumBlue\">Strings have many <ins>methods</ins> that other sequences do not, here are a few examples:</span>"
   ]
  },
  {
   "cell_type": "code",
   "execution_count": null,
   "metadata": {
    "ExecuteTime": {
     "end_time": "2022-05-21T21:51:07.706148Z",
     "start_time": "2022-05-21T21:51:07.700867Z"
    },
    "slideshow": {
     "slide_type": "fragment"
    }
   },
   "outputs": [],
   "source": [
    "print(s.upper())  # An uppercase version of the string\n",
    "print(s.lower())  # A lowercase version of the string\n",
    "print(s.swapcase())  # A swapped-case version of the string"
   ]
  },
  {
   "cell_type": "code",
   "execution_count": null,
   "metadata": {
    "ExecuteTime": {
     "end_time": "2022-05-21T21:51:44.488200Z",
     "start_time": "2022-05-21T21:51:44.483391Z"
    },
    "slideshow": {
     "slide_type": "fragment"
    }
   },
   "outputs": [],
   "source": [
    "s.index('egg')  # An integer giving the position of the FIRST instance sub-string"
   ]
  },
  {
   "cell_type": "code",
   "execution_count": null,
   "metadata": {
    "ExecuteTime": {
     "end_time": "2022-05-21T21:51:57.079910Z",
     "start_time": "2022-05-21T21:51:57.074478Z"
    },
    "scrolled": true,
    "slideshow": {
     "slide_type": "fragment"
    }
   },
   "outputs": [],
   "source": [
    "s.split()  # A list of strings, delimited by whitespace by default"
   ]
  },
  {
   "cell_type": "markdown",
   "metadata": {},
   "source": [
    "<span style=\"color:MediumBlue\">Since strings are immutable, `s` is guaranteed to remain unchanged after calling the previous methods.</span>\n",
    "\n",
    "<span style=\"color:Red\">The <ins>returned</ins> result of those methods contain the changed string</span>, which can be assigned to a new variable (or assigned to s to replace the old one)"
   ]
  },
  {
   "cell_type": "code",
   "execution_count": null,
   "metadata": {
    "ExecuteTime": {
     "end_time": "2022-05-21T21:52:24.172957Z",
     "start_time": "2022-05-21T21:52:24.168048Z"
    }
   },
   "outputs": [],
   "source": [
    "print(s)"
   ]
  },
  {
   "cell_type": "markdown",
   "metadata": {},
   "source": [
    "<span style=\"font-size:1.5em;\">Note:</span>\n",
    "<span style=\"font-size:1.0em;\"><span style=\"color:MediumBlue\">While the Integer object may have arbitrary size, the size information in the overhead of ordered structures like Strings (and lists below) has a fixed size limited by the system.</span> \n",
    "\n",
    "This limits the number of indices allowed, thereby limited the length of these object types. \n",
    "\n",
    "<span style=\"color:MediumSeaGreen\">On a 64 bit system, the maximum size for an array or string is $ 2^{63} - 1 $</span>\n",
    "\n",
    "<span style=\"color:MediumSeaGreen\">This value varies by system, but can be checked using the sys library</span>"
   ]
  },
  {
   "cell_type": "code",
   "execution_count": 49,
   "metadata": {},
   "outputs": [
    {
     "name": "stdout",
     "output_type": "stream",
     "text": [
      "9223372036854775807\n"
     ]
    }
   ],
   "source": [
    "import sys\n",
    "\n",
    "print(sys.maxsize) "
   ]
  },
  {
   "cell_type": "markdown",
   "metadata": {},
   "source": [
    "### Lists"
   ]
  },
  {
   "cell_type": "markdown",
   "metadata": {
    "slideshow": {
     "slide_type": "slide"
    }
   },
   "source": [
    "Lists are another kind of sequence that <span style=\"color:Red\">**store a sequence of Objects of arbitrary type**</span>\n",
    "\n",
    "It can be a list of floats - the heights of everyone in the room<br>\n",
    "A list of booleans - the results of flipping a coin N times<br>\n",
    "A list of strings - the names of each person in the room<br>\n",
    "A list of lists!! - a list containing each of the above lists!\n",
    "\n",
    "To reiterate: <span style=\"color:Red\">**Members of a list do NOT need to be the same type**</span>\n",
    "\n",
    "<span style=\"color:MediumSeaGreen\">In truth, at the memory level, all of parts of the memory dedicated to the list are references to the Objects actually being kept in the list. In this sense, all members of the list are the same type (the type being a reference) but this distinction is largely unhelpful</span>\n",
    "\n",
    "<center><img src=\"https://editor.analyticsvidhya.com/uploads/11490lis1.png\" alt=\"drawing\" width=\"300\"/></center>"
   ]
  },
  {
   "cell_type": "code",
   "execution_count": null,
   "metadata": {
    "ExecuteTime": {
     "end_time": "2022-05-21T21:54:40.625831Z",
     "start_time": "2022-05-21T21:54:40.623184Z"
    },
    "slideshow": {
     "slide_type": "fragment"
    }
   },
   "outputs": [],
   "source": [
    "li = [4, 5.5, \"spam\"]"
   ]
  },
  {
   "cell_type": "markdown",
   "metadata": {
    "slideshow": {
     "slide_type": "slide"
    }
   },
   "source": [
    "Accessing individual items is done like for strings (<ins>indexing</ins>)"
   ]
  },
  {
   "cell_type": "code",
   "execution_count": null,
   "metadata": {
    "ExecuteTime": {
     "end_time": "2022-05-21T21:54:53.361338Z",
     "start_time": "2022-05-21T21:54:53.357876Z"
    },
    "slideshow": {
     "slide_type": "-"
    }
   },
   "outputs": [],
   "source": [
    "print(li[0])\n",
    "print(li[1])\n",
    "print(li[2])"
   ]
  },
  {
   "cell_type": "markdown",
   "metadata": {
    "slideshow": {
     "slide_type": "slide"
    }
   },
   "source": [
    "<span style=\"color:MediumBlue\">Values in a list *can* be changed because lists are <ins>mutable</ins>, and it is also possible to append or insert elements:</span>\n",
    "\n",
    "Here are some operators specific to lists because \n",
    "\n",
    "| Operator | Description | &nbsp; Example |\n",
    "| --- | --- | --- |\n",
    "| `append` | <span style=\"color:Red\">Add a object (b) to the end of list (a)</span> | &nbsp; `a.append(b)` |\n",
    "| `remove` | <span style=\"color:MediumBlue\">remove the first object in (a) that matches (b) </span> | &nbsp; `a.remove(b)` |\n",
    "| `insert` | <span style=\"color:MediumBlue\">inert object (b) into list (a) at index (i)</span> | &nbsp; `a.insert(i, b)` |"
   ]
  },
  {
   "cell_type": "code",
   "execution_count": null,
   "metadata": {
    "ExecuteTime": {
     "end_time": "2022-05-21T21:55:44.080904Z",
     "start_time": "2022-05-21T21:55:44.077789Z"
    },
    "slideshow": {
     "slide_type": "fragment"
    }
   },
   "outputs": [],
   "source": [
    "li[1] = -2.2\n",
    "print(li)"
   ]
  },
  {
   "cell_type": "code",
   "execution_count": null,
   "metadata": {
    "ExecuteTime": {
     "end_time": "2022-05-21T21:56:02.253623Z",
     "start_time": "2022-05-21T21:56:02.250600Z"
    },
    "slideshow": {
     "slide_type": "fragment"
    }
   },
   "outputs": [],
   "source": [
    "li.append(-3)\n",
    "print(li)"
   ]
  },
  {
   "cell_type": "code",
   "execution_count": null,
   "metadata": {
    "ExecuteTime": {
     "end_time": "2022-05-21T21:56:38.486181Z",
     "start_time": "2022-05-21T21:56:38.482968Z"
    },
    "slideshow": {
     "slide_type": "fragment"
    }
   },
   "outputs": [],
   "source": [
    "li.insert(1, 3.14)\n",
    "print(li)"
   ]
  },
  {
   "cell_type": "markdown",
   "metadata": {},
   "source": [
    "Similarly to strings, you can find the length of a list (the number of elements) with the ``len`` function:"
   ]
  },
  {
   "cell_type": "code",
   "execution_count": null,
   "metadata": {
    "ExecuteTime": {
     "end_time": "2022-05-21T21:58:34.153573Z",
     "start_time": "2022-05-21T21:58:34.150411Z"
    }
   },
   "outputs": [],
   "source": [
    "len([1,2,3,4,5])"
   ]
  },
  {
   "cell_type": "markdown",
   "metadata": {},
   "source": [
    "For our Building Block Example\n",
    "\n",
    "<center><img src=\"https://wallpapers.com/images/hd/block-pictures-1024-x-1024-9bqrsf694npn3mgb.jpg\" alt=\"drawing\" width=\"175\"/></center>\n",
    "\n",
    "We can use lists to store information about the blocks together, such as bundling their sizes, names, and \"on another block\" status together:"
   ]
  },
  {
   "cell_type": "code",
   "execution_count": 27,
   "metadata": {},
   "outputs": [],
   "source": [
    "# Blocks by index:\n",
    "# [ Block A,  Block B,  Block C]\n",
    "\n",
    "block_heights = [4, 16.3, 25.74]\n",
    "block_widths = [7, 7, 7]\n",
    "block_lengths = [3, 2, 1]\n",
    "\n",
    "block_status = [True, True, False]\n",
    "block_names = [\"A\", \"B\", \"C\"]"
   ]
  },
  {
   "cell_type": "markdown",
   "metadata": {},
   "source": [
    "We can use this structure to easily grab pieces of information about a given block, using only it's index number\n",
    "\n",
    "This is possible because we've designed our lists such that each block uses the same index in each list\n",
    "\n",
    "We can then use any index we choose (within range) to retrieve information we want:"
   ]
  },
  {
   "cell_type": "code",
   "execution_count": null,
   "metadata": {},
   "outputs": [],
   "source": [
    "block_index = 2 # 2 corresponds to block C, feel free to change\n",
    "\n",
    "print(\"Block Name: \" + block_names[block_index])\n",
    "print(\"On another block: \" + str(block_status[block_index]))\n",
    "print(\"Block Length: \" + str(block_lengths[block_index]))\n",
    "print(\"Block Width: \" + str(block_widths[block_index]))\n",
    "print(\"Block Height: \" + str(block_heights[block_index]))\n"
   ]
  },
  {
   "cell_type": "markdown",
   "metadata": {},
   "source": [
    "### Tuples"
   ]
  },
  {
   "cell_type": "markdown",
   "metadata": {},
   "source": [
    "In most cases, a tuple is used in exactly the same way as a list, <span style=\"color:Red\">**storing a sequence of Python objects.**</span>\n",
    "\n",
    "<span style=\"color:MediumBlue\">The only difference (besides *slightly* smaller memory allocation) is that it is **immutable**.</span> <span style=\"color:MediumSeaGreen\">Attempting to change any values of an existing tuple will raise a `TypeError`, and no methods exist to change its length (can't `append` for example). However, you can still concatenate two tuples via the `+` operator to create a new tuple</span>\n",
    "\n",
    "<span style=\"color:MediumBlue\">Like strings and lists, tuples are iterable and indexable</span>"
   ]
  },
  {
   "cell_type": "code",
   "execution_count": null,
   "metadata": {
    "ExecuteTime": {
     "end_time": "2022-05-20T23:07:37.716542Z",
     "start_time": "2022-05-20T23:07:37.707558Z"
    }
   },
   "outputs": [],
   "source": [
    "# Three ways to construct a tuple:\n",
    "t1 = (1, True, \"Hello\")\n",
    "t2 = 2, False, \" \"\n",
    "t3 = tuple([3, True, \"world!\"])\n",
    "\n",
    "# The output below is a tuple too!\n",
    "type(t1), type(t2), type(t3)"
   ]
  },
  {
   "cell_type": "code",
   "execution_count": null,
   "metadata": {
    "ExecuteTime": {
     "end_time": "2022-05-20T23:08:36.915241Z",
     "start_time": "2022-05-20T23:08:36.900450Z"
    }
   },
   "outputs": [],
   "source": [
    "t2[1] = True"
   ]
  },
  {
   "cell_type": "code",
   "execution_count": null,
   "metadata": {
    "ExecuteTime": {
     "end_time": "2022-05-20T23:11:49.377609Z",
     "start_time": "2022-05-20T23:11:49.371114Z"
    }
   },
   "outputs": [],
   "source": [
    "# Neither original tuple is altered; a new tuple is constructed\n",
    "(1, 2, 3) + (4, 5)"
   ]
  },
  {
   "cell_type": "markdown",
   "metadata": {},
   "source": [
    "### Ranges\n"
   ]
  },
  {
   "cell_type": "markdown",
   "metadata": {},
   "source": [
    "Ranges are a very simple iterable, <span style=\"color:Red\">**that contain an <ins>immutable</ins> sequence of numbers**</span>\n",
    "\n",
    "For example: \n",
    "- counting upward: [0, 1, 2, 3, 4, 5, 6, 7]\n",
    "- counting backwards: [5, 4, 3, 2, 1]\n",
    "- counting by twos: [0, 2, 4, 6, 8]\n",
    "\n",
    "<span style=\"color:MediumBlue\">They are typically used in `for` loops</span>\n",
    "\n",
    "Simple range constructor: `range(stop)`, will generate a sequence from 0 to `stop`, incrementing by 1\n",
    "\n",
    "More detailed constructor: `range(start, stop[, step])`, will generate a sequence from `start` to `stop`, incrementing by `step` if given or 1 if not"
   ]
  },
  {
   "cell_type": "markdown",
   "metadata": {},
   "source": [
    "### Slicing"
   ]
  },
  {
   "cell_type": "markdown",
   "metadata": {
    "slideshow": {
     "slide_type": "slide"
    }
   },
   "source": [
    "We already mentioned above that it is possible to access individual elements from a string or a list using the square bracket notation. You will also find this notation for other object types in Python, for example tuples or Numpy arrays, so it's worth spending a bit of time looking at this in more detail.\n",
    "\n",
    "In addition to using positive integers, where ``0`` is the first item, it is possible to access list items with *negative* indices, which counts from the end: ``-1`` is the last element, ``-2`` is the second to last, etc:"
   ]
  },
  {
   "cell_type": "code",
   "execution_count": null,
   "metadata": {
    "ExecuteTime": {
     "end_time": "2022-05-21T21:59:21.909336Z",
     "start_time": "2022-05-21T21:59:21.905892Z"
    }
   },
   "outputs": [],
   "source": [
    "li = [4, 67, 4, 2, 4, 6]"
   ]
  },
  {
   "cell_type": "code",
   "execution_count": null,
   "metadata": {
    "ExecuteTime": {
     "end_time": "2022-05-21T21:59:22.344413Z",
     "start_time": "2022-05-21T21:59:22.340435Z"
    }
   },
   "outputs": [],
   "source": [
    "li[-1]"
   ]
  },
  {
   "cell_type": "markdown",
   "metadata": {
    "slideshow": {
     "slide_type": "slide"
    }
   },
   "source": [
    "<span style=\"color:Red\">**You can also select slices from a list with the ``start:end:step`` syntax. Be aware that the last element is *not* included!**</span>"
   ]
  },
  {
   "cell_type": "code",
   "execution_count": null,
   "metadata": {
    "ExecuteTime": {
     "end_time": "2022-05-21T22:00:21.438006Z",
     "start_time": "2022-05-21T22:00:21.432017Z"
    },
    "slideshow": {
     "slide_type": "fragment"
    }
   },
   "outputs": [],
   "source": [
    "li[0:2]"
   ]
  },
  {
   "cell_type": "code",
   "execution_count": null,
   "metadata": {
    "ExecuteTime": {
     "end_time": "2022-05-21T22:00:33.859558Z",
     "start_time": "2022-05-21T22:00:33.854829Z"
    },
    "slideshow": {
     "slide_type": "fragment"
    }
   },
   "outputs": [],
   "source": [
    "li[:2]  # ``start`` defaults to zero"
   ]
  },
  {
   "cell_type": "code",
   "execution_count": null,
   "metadata": {
    "ExecuteTime": {
     "end_time": "2022-05-21T22:00:55.174932Z",
     "start_time": "2022-05-21T22:00:55.170804Z"
    },
    "slideshow": {
     "slide_type": "fragment"
    }
   },
   "outputs": [],
   "source": [
    "li[2:]  # ``end`` defaults to the last element "
   ]
  },
  {
   "cell_type": "code",
   "execution_count": null,
   "metadata": {
    "ExecuteTime": {
     "end_time": "2022-05-21T22:02:02.136480Z",
     "start_time": "2022-05-21T22:02:02.132729Z"
    },
    "slideshow": {
     "slide_type": "fragment"
    }
   },
   "outputs": [],
   "source": [
    "li[::2]  # specify a step size"
   ]
  },
  {
   "cell_type": "markdown",
   "metadata": {},
   "source": [
    "#### Exercise 2"
   ]
  },
  {
   "cell_type": "markdown",
   "metadata": {},
   "source": [
    "Given a string such as the one below, use slicing/indexing to remove ``egg`` and leave everything else as as is:"
   ]
  },
  {
   "cell_type": "code",
   "execution_count": 1,
   "metadata": {
    "ExecuteTime": {
     "end_time": "2022-05-20T09:56:27.249190Z",
     "start_time": "2022-05-20T09:56:27.246205Z"
    }
   },
   "outputs": [],
   "source": [
    "a = \"Hello, egg world!\"\n",
    "\n",
    "# Enter your solution here"
   ]
  },
  {
   "cell_type": "markdown",
   "metadata": {},
   "source": [
    "Make your solution general enough to work with any string that contains the word ``egg`` once. Reference the section on Strings above to see helpful String methods (`.index()` will be your friend). Try changing the string above to see if your solution works.\n",
    "\n",
    "The useful sequence methods are copied here:\n",
    "| Operator | Description | &nbsp; Example |\n",
    "| --- | --- | --- |\n",
    "| `len` | <span style=\"color:Red\">**length of sequence aka how many members**</span> | &nbsp; `len(a)` |\n",
    "| `min` | <span style=\"color:MediumBlue\">return smallest element, evaluated using built-in comparison operators</span> | &nbsp; `min(a)` |\n",
    "| `max` | <span style=\"color:MediumBlue\">return largest element, evaluated using built-in comparison operators</span> | &nbsp; `max(a)` |\n",
    "| `count` | <span style=\"color:MediumBlue\">total # of members of a sequence that \"`==`\" the input object</span> | &nbsp; `a.count(b)` |\n",
    "| `index` | <span style=\"color:MediumBlue\">index of first members of a sequence that \"`==`\"s the input object</span> | &nbsp; `a.index(b)` |\n",
    "| `in` | <span style=\"color:Red\">**returns `True` if a member of the sequence \"`==`\"s the given object**</span> | &nbsp; `b in a` |\n",
    "| `+` | <span style=\"color:MediumBlue\">concatenates two sequences</span>| &nbsp; `a + b` |"
   ]
  },
  {
   "cell_type": "code",
   "execution_count": null,
   "metadata": {},
   "outputs": [],
   "source": [
    "# Enter your solution here"
   ]
  },
  {
   "cell_type": "markdown",
   "metadata": {},
   "source": [
    "***\n",
    "## Dictionaries"
   ]
  },
  {
   "cell_type": "markdown",
   "metadata": {},
   "source": [
    "A 'real' dictionary is a list of words, and for each word is a definition. \n",
    "\n",
    "<span style=\"color:Red\">**Similarly, in Python, we can assign definitions (or values), to words (or keys).**</span>\n",
    "\n",
    "<span style=\"color:MediumBlue\">Dictionaries are mutable (which is why the `.copy()` method below is useful)</span>\n",
    "\n",
    "<span style=\"color:Red\">Dictionaries may contain no duplicate keys, but may contain duplicate values (for different keys)</span>\n",
    "\n",
    "<span style=\"color:MediumSeaGreen\">As of Python 3.7, Dictionaries are ordered. This is untrue for all previous versions of python</span>\n",
    "\n",
    "Instead of using lists for our blocks, we could use a dictionary, with the block name serving as our key:"
   ]
  },
  {
   "cell_type": "code",
   "execution_count": null,
   "metadata": {
    "ExecuteTime": {
     "end_time": "2022-05-21T00:13:07.037905Z",
     "start_time": "2022-05-21T00:13:07.031240Z"
    }
   },
   "outputs": [],
   "source": [
    "block_heights = {\"A\": 4, \"B\": 16.3, \"C\": 25.74}\n",
    "keyword_arguments = dict(x=1, y=2, z=3)\n",
    "\n",
    "print(block_heights)\n",
    "print(keyword_arguments)"
   ]
  },
  {
   "cell_type": "markdown",
   "metadata": {},
   "source": [
    "Useful Dictionary Methods:\n",
    "\n",
    "- `keys()` : returns a list containing all keys in the dictionary\n",
    "- `values()` : returns a list containing all values in the dictionary\n",
    "- `pop(key k)` : removes key-value pair corresponding to key k from the dictionary and returns its value\n",
    "- `popitem()` : removes the most recently added key-value pair and returns the value; First In Last Out (FILO) behavior\n",
    "- `copy()` : returns a copy of a dictionary (useful for making modifications that will not affect original values)"
   ]
  },
  {
   "cell_type": "markdown",
   "metadata": {},
   "source": [
    "Not impressed by the power of dictionaries yet? Every single variable you have assigned in this notebook is stored in a dictionary accessible by executing the `locals()` function. Is this useful to you? Probably not, but modern programming languages could not exist without this type of underlying data structure."
   ]
  },
  {
   "cell_type": "code",
   "execution_count": null,
   "metadata": {
    "ExecuteTime": {
     "end_time": "2022-05-20T23:51:30.923061Z",
     "start_time": "2022-05-20T23:51:30.920101Z"
    }
   },
   "outputs": [],
   "source": [
    "all_local_variables = locals()"
   ]
  },
  {
   "cell_type": "code",
   "execution_count": null,
   "metadata": {
    "ExecuteTime": {
     "end_time": "2022-05-20T23:51:37.815800Z",
     "start_time": "2022-05-20T23:51:37.809592Z"
    }
   },
   "outputs": [],
   "source": [
    "all_local_variables[\"block_heights\"]"
   ]
  },
  {
   "cell_type": "code",
   "execution_count": null,
   "metadata": {
    "ExecuteTime": {
     "end_time": "2022-05-21T00:07:40.525968Z",
     "start_time": "2022-05-21T00:07:40.520197Z"
    }
   },
   "outputs": [],
   "source": [
    "all_local_variables[\"s\"]"
   ]
  },
  {
   "cell_type": "code",
   "execution_count": null,
   "metadata": {
    "ExecuteTime": {
     "end_time": "2022-05-21T00:07:43.416636Z",
     "start_time": "2022-05-21T00:07:43.410642Z"
    }
   },
   "outputs": [],
   "source": [
    "all_local_variables[\"s\"] == s"
   ]
  },
  {
   "cell_type": "markdown",
   "metadata": {},
   "source": [
    "***\n",
    "## NoneType\n",
    "\n",
    "<span style=\"color:Red\">**None is an <ins>immortal</ins>, <ins>immutable</ins> Object that represents nothing in Python.**</span>\n",
    "\n",
    "Any variable can be assigned to None, but None is never <ins>instantiated.</ins> \n",
    "\n",
    "<span style=\"color:MediumSeaGreen\">There is only one None in python (a singleton): all variable assignments point to the same None</span>\n",
    "\n",
    "<span style=\"color:MediumBlue\">Because there is only ever one None, checking for None can be done using `==` comparison operator.</span>\n",
    "\n",
    "<span style=\"color:MediumSeaGreen\">Any method that does not explicitly return a value, implicitly returns None (for the purposes of variable assignment)</span>"
   ]
  },
  {
   "cell_type": "code",
   "execution_count": null,
   "metadata": {},
   "outputs": [],
   "source": [
    "def do_nothing():\n",
    "    pass\n",
    "\n",
    "a = None\n",
    "b = do_nothing()\n",
    "\n",
    "print(a == b)"
   ]
  },
  {
   "cell_type": "markdown",
   "metadata": {},
   "source": [
    "For our blocks, `None` would mean the absense of a block\n",
    "\n",
    "If I had a <ins>method</ins> that was designed to give me all cylinder blocks in a box, and my box didn't have any, it would make sense for the method to return me `None`"
   ]
  },
  {
   "cell_type": "markdown",
   "metadata": {},
   "source": [
    "***\n",
    "## A note on Python objects"
   ]
  },
  {
   "cell_type": "markdown",
   "metadata": {
    "slideshow": {
     "slide_type": "slide"
    }
   },
   "source": [
    "What is an object? Well, **everything** that you can save to a variable in Python is an object. <span style=\"color:MediumBlue\">In fact, the base class that all classes must inherit from is appropriately named `object`.</span>\n",
    "\n",
    "As shown above, even the concept of nothing is an Object in Python.\n",
    "\n",
    "<span style=\"color:MediumSeaGreen\">On its own, an `Object` object doesn't save anything except for basic bookkeeping information, such as its memory allocation size and location, as well as its reference count so it knows to release allocated memory when it becomes inaccessible.</span>"
   ]
  },
  {
   "cell_type": "code",
   "execution_count": null,
   "metadata": {
    "ExecuteTime": {
     "end_time": "2022-05-20T14:58:25.158126Z",
     "start_time": "2022-05-20T14:58:25.152136Z"
    }
   },
   "outputs": [],
   "source": [
    "obj = object()\n",
    "type(obj)"
   ]
  },
  {
   "cell_type": "code",
   "execution_count": null,
   "metadata": {
    "ExecuteTime": {
     "end_time": "2022-05-20T14:58:34.602965Z",
     "start_time": "2022-05-20T14:58:34.599715Z"
    }
   },
   "outputs": [],
   "source": [
    "obj.__sizeof__()"
   ]
  },
  {
   "cell_type": "markdown",
   "metadata": {},
   "source": [
    "*Note: Any object which stores useful information must allocate **more** than 16 bytes of data. So keep in mind that <span style=\"color:MediumBlue\">you might not want to generate a Python list with a billion entries (with each entry, an object, being 16 bytes), as it will require a bare minimum of 16 GB, which is likely your entire RAM.*</span>"
   ]
  },
  {
   "cell_type": "markdown",
   "metadata": {},
   "source": [
    "<span style=\"color:Red\">**Objects have attributes and methods**</span>\n",
    " \n",
    "Use tab completion in IPython/Jupyter to inspect objects and start to understand\n",
    "attributes and methods. To start off create a list of 4 numbers:\n",
    "\n",
    "    li = [3, 1, 2, 1]\n",
    "    li.<TAB>"
   ]
  },
  {
   "cell_type": "code",
   "execution_count": null,
   "metadata": {},
   "outputs": [],
   "source": [
    "li = [3, 1, 2, 1]\n",
    "li.   # press tab here"
   ]
  },
  {
   "cell_type": "markdown",
   "metadata": {
    "slideshow": {
     "slide_type": "notes"
    }
   },
   "source": [
    "This will show the available attributes and methods for the Python list\n",
    "``li``.\n",
    "\n",
    "<span style=\"color:Red\">**This can also be done by calling `.__dict__` on an object**</span> (which will return all of its attributes as a dictionary, if supported by the object, or `dir(Object)` which returns a list of all attributes and methods of the object (without values)\n",
    "    \n",
    "<span style=\"color:Red\">**If you want to know what a function or method does, you can use a question mark** ``?``:</span>\n",
    "    \n",
    "    In [9]: li.append?\n",
    "    Type:       builtin_function_or_method\n",
    "    String Form:<built-in method append of list object at 0x1027210e0>\n",
    "    Docstring:  L.append(object) -> None -- append object to end\n",
    "\n",
    "<span style=\"font-size:2em;\"><ins>Important Note:</ins></span>\n",
    "\n",
    "<span style=\"font-size:1.0em;\">Because everything is an object, <span style=\"color:Red\">**NOTHING is passed by value in python.**</span> When objects are passed as parameters to functions, they are passed by reference (their memory address). Python is only able to *mimic* the functionality of passing integers, floats, strings, and booleans by value as other languages do because those data types are immutable. Any operations performed \"on\" them create new ones</span>"
   ]
  },
  {
   "cell_type": "markdown",
   "metadata": {},
   "source": [
    "***\n",
    "## Dynamic typing"
   ]
  },
  {
   "cell_type": "markdown",
   "metadata": {
    "slideshow": {
     "slide_type": "slide"
    }
   },
   "source": [
    "One final note on Python types - unlike many other programming languages where types have to be declared for variables, Python is *dynamically typed* which means that <span style=\"color:Red\">**variables aren't permanently assigned a specific type:**</span>"
   ]
  },
  {
   "cell_type": "code",
   "execution_count": null,
   "metadata": {},
   "outputs": [],
   "source": [
    "a = 1\n",
    "type(a)"
   ]
  },
  {
   "cell_type": "code",
   "execution_count": null,
   "metadata": {},
   "outputs": [],
   "source": [
    "a = 2.3\n",
    "type(a)"
   ]
  },
  {
   "cell_type": "code",
   "execution_count": null,
   "metadata": {},
   "outputs": [],
   "source": [
    "a = 'hello'\n",
    "type(a)"
   ]
  },
  {
   "cell_type": "markdown",
   "metadata": {},
   "source": [
    "While dynamic typing might seem like less of a headache for syntax management and better support dynamic programming, <span style=\"color:Red\">**it puts more responsibility on the programmer to check that code is outputting types correctly**</span>\n",
    "\n",
    "Python does not know that a method was supposed to return an integer and not a boolean, *and* booleans are valid operands for arithmetic operators so you might accidentally be evaluating the area of a circle as $ \\pi (True)^2 $ (and generating a superficially-valid result)\n",
    "***"
   ]
  },
  {
   "cell_type": "markdown",
   "metadata": {},
   "source": [
    "## Converting between types - Casting"
   ]
  },
  {
   "cell_type": "markdown",
   "metadata": {
    "slideshow": {
     "slide_type": "slide"
    }
   },
   "source": [
    "There may be cases where you want to convert a string to a floating point value, and integer to a string, etc. For this, you can simply use the ``int()``, ``float()``, and ``str()`` functions:\n",
    "\n",
    "<span style=\"color:Red\">**These <ins>class constructors</ins> create a new instances of the given class using the passed value**</sern>\n",
    "\n",
    "This process is often called casting, \"cast x to a float before... \"\n",
    "\n",
    "The following start with string representations of numbers:"
   ]
  },
  {
   "cell_type": "code",
   "execution_count": null,
   "metadata": {},
   "outputs": [],
   "source": [
    "int('1')"
   ]
  },
  {
   "cell_type": "code",
   "execution_count": null,
   "metadata": {},
   "outputs": [],
   "source": [
    "float('4.31')"
   ]
  },
  {
   "cell_type": "markdown",
   "metadata": {
    "slideshow": {
     "slide_type": "slide"
    }
   },
   "source": [
    "For example:"
   ]
  },
  {
   "cell_type": "code",
   "execution_count": null,
   "metadata": {
    "slideshow": {
     "slide_type": "-"
    }
   },
   "outputs": [],
   "source": [
    "int('5') + float('4.31')"
   ]
  },
  {
   "cell_type": "markdown",
   "metadata": {},
   "source": [
    "is different from:"
   ]
  },
  {
   "cell_type": "code",
   "execution_count": null,
   "metadata": {},
   "outputs": [],
   "source": [
    "'5' + '4.31'"
   ]
  },
  {
   "cell_type": "markdown",
   "metadata": {
    "slideshow": {
     "slide_type": "skip"
    }
   },
   "source": [
    "Which actually performs string concatenation!\n",
    "\n",
    "Similarly:"
   ]
  },
  {
   "cell_type": "code",
   "execution_count": null,
   "metadata": {
    "slideshow": {
     "slide_type": "slide"
    }
   },
   "outputs": [],
   "source": [
    "str(1)"
   ]
  },
  {
   "cell_type": "code",
   "execution_count": null,
   "metadata": {},
   "outputs": [],
   "source": [
    "str(4.5521)"
   ]
  },
  {
   "cell_type": "code",
   "execution_count": null,
   "metadata": {},
   "outputs": [],
   "source": [
    "str(3) + str(4)"
   ]
  },
  {
   "cell_type": "markdown",
   "metadata": {},
   "source": [
    "Be aware of this for example when connecting strings with numbers, as you can only concatenate identical types this way:"
   ]
  },
  {
   "cell_type": "code",
   "execution_count": null,
   "metadata": {},
   "outputs": [],
   "source": [
    "'The value is ' + 3"
   ]
  },
  {
   "cell_type": "markdown",
   "metadata": {},
   "source": [
    "Instead do:"
   ]
  },
  {
   "cell_type": "code",
   "execution_count": null,
   "metadata": {},
   "outputs": [],
   "source": [
    "'The value is ' + str(3)"
   ]
  },
  {
   "cell_type": "markdown",
   "metadata": {},
   "source": [
    "You can also use an f-string (Python >=3.6 only) to automatically call the string constructor inside curly brackets"
   ]
  },
  {
   "cell_type": "code",
   "execution_count": null,
   "metadata": {
    "ExecuteTime": {
     "end_time": "2022-05-21T22:19:35.273849Z",
     "start_time": "2022-05-21T22:19:35.268055Z"
    }
   },
   "outputs": [],
   "source": [
    "value = 3\n",
    "f'The value is {value}'"
   ]
  },
  {
   "cell_type": "markdown",
   "metadata": {},
   "source": [
    "Or you can use the `string.format()`:\n",
    "\n",
    "(note that passing values as positional arguments instead of keyword arguments requires you to remove the key from the string)"
   ]
  },
  {
   "cell_type": "code",
   "execution_count": null,
   "metadata": {},
   "outputs": [],
   "source": [
    "print('The value is {val}'.format(val=3))"
   ]
  },
  {
   "cell_type": "code",
   "execution_count": null,
   "metadata": {},
   "outputs": [],
   "source": [
    "print('The value is {0}'.format(3))"
   ]
  },
  {
   "cell_type": "markdown",
   "metadata": {},
   "source": [
    "<span style=\"color:MediumBlue\">You can also cast things to boolean with bool()</span>\n",
    "\n",
    "<span style=\"color:Red\">**Note that all basic data types cast to `True`, with the following exceptions:**</span>\n",
    "\n",
    "- ` \"\" ` : an empty string\n",
    "- ` [] ` : an empty array\n",
    "- ` () ` : an empty tuple\n",
    "- ` {} ` : an empty dictionary\n",
    "- `None` : the None object\n",
    "-  `   ` : nothing\n",
    "\n",
    "which all cast to `False`\n",
    "\n",
    "This means that **`NaN` is `True`**"
   ]
  },
  {
   "cell_type": "code",
   "execution_count": null,
   "metadata": {},
   "outputs": [],
   "source": [
    "print(bool())\n",
    "print(bool(\"\"))\n",
    "print(bool([]))\n",
    "print(bool(()))\n",
    "print(bool({}))\n",
    "print(bool(None))"
   ]
  },
  {
   "cell_type": "code",
   "execution_count": null,
   "metadata": {},
   "outputs": [],
   "source": [
    "print(bool(float(\"NaN\")))"
   ]
  },
  {
   "cell_type": "markdown",
   "metadata": {},
   "source": [
    "This behavior can be useful in control flow (next lesson) by allowing you to check if a variable contains data:"
   ]
  },
  {
   "cell_type": "code",
   "execution_count": null,
   "metadata": {},
   "outputs": [],
   "source": [
    "if():\n",
    "    print(\"Evaluated to True\")\n",
    "else:\n",
    "    print(\"Evaluated to False\")"
   ]
  },
  {
   "cell_type": "code",
   "execution_count": null,
   "metadata": {},
   "outputs": [],
   "source": [
    "if 4:\n",
    "    print(\"Evaluated to True\")\n",
    "else:\n",
    "    print(\"Evaluated to False\")"
   ]
  },
  {
   "cell_type": "code",
   "execution_count": null,
   "metadata": {},
   "outputs": [],
   "source": [
    "a = []\n",
    "if a:\n",
    "    print(sum(a))\n",
    "else:\n",
    "    print(\"Array is Empty!\")"
   ]
  },
  {
   "cell_type": "code",
   "execution_count": null,
   "metadata": {},
   "outputs": [],
   "source": [
    "a = [1, 3, 5, 9]\n",
    "if a:\n",
    "    print(sum(a))\n",
    "else:\n",
    "    print(\"Array is Empty!\")"
   ]
  },
  {
   "cell_type": "markdown",
   "metadata": {},
   "source": [
    "In a sense, the above example with lists is a form of error handling - only attempting to evaluate the sum of a list if the list is non-empty, especially in a situation where calculating the sum of an empty array to be 0 is misleading for some reason\n",
    "***"
   ]
  },
  {
   "cell_type": "markdown",
   "metadata": {},
   "source": [
    "## The `is` operator and \"mutability\"\n",
    "\n",
    "<span style=\"color:Red\"> `is` **tests if the two variables store the *same* Python object**</span>. That is, they point to the same place in memory. \n",
    "\n",
    "If the object is <ins>mutable</ins>, it is able to be changed <ins>in place</ins> (does not create new objects). Any changes to one variable will change the value stored to the other variable as well."
   ]
  },
  {
   "cell_type": "code",
   "execution_count": null,
   "metadata": {
    "ExecuteTime": {
     "end_time": "2022-05-18T13:07:10.882226Z",
     "start_time": "2022-05-18T13:07:10.874048Z"
    }
   },
   "outputs": [],
   "source": [
    "a = [1, 2, 3]\n",
    "b = [1, 2, 3]\n",
    "c = a\n",
    "d = a.copy()\n",
    "\n",
    "print(a == b, a is b)\n",
    "print(a == c, a is c)\n",
    "print(a == d, a is d)\n",
    "\n",
    "a.append(4)\n",
    "print(b)\n",
    "print(c)\n",
    "print(d)"
   ]
  },
  {
   "cell_type": "markdown",
   "metadata": {},
   "source": [
    "Certain commonly-used, immutable values have special, reserved positions in memory, such as Python's null value, `None`. Therefore, independent instances of `None` are always the same object. The same is true for small integers and single-word strings. Therefore, you can get confusing results if you use the `is` operator between immutable objects."
   ]
  },
  {
   "cell_type": "code",
   "execution_count": null,
   "metadata": {
    "ExecuteTime": {
     "end_time": "2022-05-18T13:03:41.399312Z",
     "start_time": "2022-05-18T13:03:41.393420Z"
    }
   },
   "outputs": [],
   "source": [
    "a1 = None\n",
    "a2 = None\n",
    "a1 is a2"
   ]
  },
  {
   "cell_type": "code",
   "execution_count": null,
   "metadata": {
    "ExecuteTime": {
     "end_time": "2022-05-18T13:03:42.262827Z",
     "start_time": "2022-05-18T13:03:42.256384Z"
    }
   },
   "outputs": [],
   "source": [
    "b1 = 256\n",
    "b2 = 256\n",
    "b1 is b2"
   ]
  },
  {
   "cell_type": "code",
   "execution_count": null,
   "metadata": {},
   "outputs": [],
   "source": [
    "c1 = 257\n",
    "c2 = 257\n",
    "c1 is c2"
   ]
  },
  {
   "cell_type": "code",
   "execution_count": null,
   "metadata": {
    "ExecuteTime": {
     "end_time": "2022-05-18T13:03:46.338704Z",
     "start_time": "2022-05-18T13:03:46.332878Z"
    }
   },
   "outputs": [],
   "source": [
    "d1 = \"Supercalifragilisticexpialidocious\"\n",
    "d2 = \"Supercalifragilisticexpialidocious\"\n",
    "d1 is d2"
   ]
  },
  {
   "cell_type": "code",
   "execution_count": null,
   "metadata": {
    "ExecuteTime": {
     "end_time": "2022-05-18T13:03:46.689042Z",
     "start_time": "2022-05-18T13:03:46.683660Z"
    }
   },
   "outputs": [],
   "source": [
    "e1 = \"Two words\"\n",
    "e2 = \"Two words\"\n",
    "e1 is e2"
   ]
  },
  {
   "cell_type": "markdown",
   "metadata": {},
   "source": [
    "<span style=\"color:Red\">Rather than compare the memory address, the `==` operator uses a class-defined equality method to compare objects by value: `__eq__()`</span>\n",
    "\n",
    "<span style=\"color:MediumBlue\">When creating a class, if you expect to want to be able to compare instances of the class, you will need to implement `__eq__()` in a way that makes sense for that object.</span>\n",
    "\n",
    "For most numericals, this method compares the objects by value of their main attribute.\n",
    "\n",
    "<span style=\"color:MediumSeaGreen\">If `__eq__()` is not implemented for a class, the `==` operator defaults to the same behavior as `is` : compare the memory addresses</span>\n",
    "\n",
    "I've written an example below that is essentially just a wrapper of the Python List Object. With this definition, two objects of this class are `==` \"equal\" if the lengths of their lists are the same. Their contents otherwise do not matter for equality evaluation"
   ]
  },
  {
   "cell_type": "code",
   "execution_count": 91,
   "metadata": {},
   "outputs": [],
   "source": [
    "class eq_example:\n",
    "    def __init__(self, li=[]):\n",
    "        self.mylist = li\n",
    "\n",
    "    def __eq__(self, obj):\n",
    "        if(len(self.mylist) == len(obj.mylist)):\n",
    "            return True\n",
    "        else:\n",
    "            return False"
   ]
  },
  {
   "cell_type": "code",
   "execution_count": 96,
   "metadata": {},
   "outputs": [],
   "source": [
    "objA = eq_example([1, 3, 6, 8])\n",
    "objB = eq_example([1, 2, 3])\n",
    "objC = eq_example([\"this\", \"has\", \"four\", \"elements\"])"
   ]
  },
  {
   "cell_type": "code",
   "execution_count": null,
   "metadata": {},
   "outputs": [],
   "source": [
    "print(objA == objB)\n",
    "print(objB == objC)\n",
    "print(objC == objA)"
   ]
  },
  {
   "cell_type": "markdown",
   "metadata": {
    "jp-MarkdownHeadingCollapsed": true
   },
   "source": [
    "***\n",
    "## <span style=\"color:MediumSeaGreen\">Other Types</span>\n",
    "\n",
    "<span style=\"color:MediumSeaGreen\">These types are predefined in python but don't see much use, so we won't discuss them, but they are described below for reference:</span>"
   ]
  },
  {
   "cell_type": "markdown",
   "metadata": {},
   "source": [
    "### Complex\n",
    "\n",
    "A complex is a numerical representation of a complex number.\n",
    "\n",
    "You can think of it like a tuple, with the first part being the real component and the second part being the imaginary component. Standard notation for complex numbers in python follows the engineering practice of using j for the imaginary component instead of i. Appending `j` or `J` to a numeric literal will create a Complex\n",
    "\n",
    "$$ z = a + b j $$\n",
    "\n",
    "a Complex object, z will have 2 core attributes:\n",
    "\n",
    "z.real => a\n",
    "\n",
    "z.imag => b"
   ]
  },
  {
   "cell_type": "code",
   "execution_count": null,
   "metadata": {},
   "outputs": [],
   "source": [
    "a = 5J\n",
    "print(a + 2)"
   ]
  },
  {
   "cell_type": "markdown",
   "metadata": {},
   "source": [
    "### Binary Sequences\n",
    "\n",
    "Representations of raw binary data. They are briefly discussed below, and more information can be found here: [more info](https://docs.python.org/3/library/stdtypes.html#binary-sequence-types-bytes-bytearray-memoryview)"
   ]
  },
  {
   "cell_type": "markdown",
   "metadata": {},
   "source": [
    "#### Bytes\n",
    "\n",
    "<ins>Immutable</ins> sequences of bytes (8 bits), typically represented as 2 hexadecimal numbers (ex. `0xF3`). These are typically used when working with ASCII data\n",
    "\n",
    "Bytes strings are denoted with a leading b, `b\"...\"`\n",
    "\n",
    "Bytes objects can be converted to strings using the `.hex()` method"
   ]
  },
  {
   "cell_type": "markdown",
   "metadata": {},
   "source": [
    "#### Bytearray\n",
    "\n",
    "The **mutable** counterpart to Bytes\n"
   ]
  },
  {
   "cell_type": "markdown",
   "metadata": {},
   "source": [
    "#### Memoryview\n",
    "\n",
    "Allows python to access internal memory data (buffer) of python projects. Almost never needed for high-level programming\n"
   ]
  },
  {
   "cell_type": "markdown",
   "metadata": {},
   "source": [
    "### Sets\n",
    "\n",
    " Unordered collections of distinct objects used primarily for set algebra: testing membership of a set, calculating set unions, differences, etc.\n"
   ]
  },
  {
   "cell_type": "markdown",
   "metadata": {},
   "source": [
    "#### Set\n",
    "\n",
    "The <ins>mutable</ins> kind of set, that supports both adding and removing elements"
   ]
  },
  {
   "cell_type": "markdown",
   "metadata": {},
   "source": [
    "#### Frozenset\n",
    "\n",
    "An <ins>Immutable</ins> set"
   ]
  },
  {
   "cell_type": "code",
   "execution_count": null,
   "metadata": {},
   "outputs": [],
   "source": []
  },
  {
   "cell_type": "code",
   "execution_count": null,
   "metadata": {},
   "outputs": [],
   "source": []
  }
 ],
 "metadata": {
  "anaconda-cloud": {},
  "kernelspec": {
   "display_name": "Python 3 (ipykernel)",
   "language": "python",
   "name": "python3"
  },
  "language_info": {
   "codemirror_mode": {
    "name": "ipython",
    "version": 3
   },
   "file_extension": ".py",
   "mimetype": "text/x-python",
   "name": "python",
   "nbconvert_exporter": "python",
   "pygments_lexer": "ipython3",
   "version": "3.11.4"
  },
  "toc": {
   "base_numbering": 1,
   "nav_menu": {},
   "number_sections": true,
   "sideBar": true,
   "skip_h1_title": false,
   "title_cell": "Table of Contents",
   "title_sidebar": "Contents",
   "toc_cell": false,
   "toc_position": {},
   "toc_section_display": true,
   "toc_window_display": false
  }
 },
 "nbformat": 4,
 "nbformat_minor": 4
}
