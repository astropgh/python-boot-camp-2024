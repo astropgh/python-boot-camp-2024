{
 "cells": [
  {
   "cell_type": "markdown",
   "metadata": {
    "editable": true,
    "slideshow": {
     "slide_type": ""
    },
    "tags": []
   },
   "source": [
    "Before we begin:\n",
    "\n",
    "<span style=\"font-size:1.5em;\">Goal:</span> By the end of this lesson you should:\n",
    "\n",
    "- Understand how to execute code conditionally\n",
    "- Understand how to loop over a limited sequence\n",
    "- Understand how to loop conditionally\n",
    "\n",
    "<span style=\"color:Red\">**Red Text**</span> is used to highlight the most important lessons and takeaways\n",
    "\n",
    "<span style=\"color:MediumBlue\">Blue Text</span> is used to highlight info that is generally helpful to know, but is not strictly necessary to understand in-depth or commit to memory\n",
    "\n",
    "<span style=\"color:MediumSeaGreen\">Green Text</span> is used to highlight really granular information that you can safely ignore. It's there for reference later if helpful\n",
    "\n",
    "<ins>Underlined Text</ins> is used for Glossary Terms"
   ]
  },
  {
   "cell_type": "markdown",
   "metadata": {},
   "source": [
    "# Control Flow"
   ]
  },
  {
   "cell_type": "markdown",
   "metadata": {},
   "source": [
    "## Glossary"
   ]
  },
  {
   "cell_type": "markdown",
   "metadata": {},
   "source": [
    "- assign : `=`, setting the value of a variable\n",
    "- control flow: how decision making is made in code. Conditional code execution\n",
    "- immutable : unable to be changed. Once the object is created, it's data remains unchanged. New Objects must be made to enact any kind of change\n",
    "- indexable : aka subscriptable. Something that has a sequential structure/order and it's members can be retrieved via that order using an index, \"give me the third one\"\n",
    "- in-place : operating on the original thing. Works for mutable objects because you don't need to create a new Object\n",
    "- instantiation : to create an instance of, aka to create an Object. Done using class constructors for non-built-in types\n",
    "- iterable : able to be iterated over / able to generate an Iterator object (more info in a future lecture). Can be parsed in sequence: \"look at the first value, then the second, then the third\"\n",
    "- logical : tied to boolean logic; decision making based on conditional \"if this is true, do this thing, otherwise do the other thing\"\n",
    "- method : a function / action. The things that objects do. (more in a future lecture)\n",
    "- object : a thing. Specifically a thing that has stuff and does stuff. They \"perform\" the methods. Everything is an object in Python\n",
    "- return : the \"response\" to a call. If I ask you how tall you are and you give me a number, that's the return"
   ]
  },
  {
   "cell_type": "markdown",
   "metadata": {},
   "source": [
    "***"
   ]
  },
  {
   "cell_type": "markdown",
   "metadata": {},
   "source": [
    "##  ``if`` statements"
   ]
  },
  {
   "cell_type": "markdown",
   "metadata": {
    "slideshow": {
     "slide_type": "slide"
    }
   },
   "source": [
    "<span style=\"color:Red\">**The simplest form of control flow is the ``if`` statement, which executes a block of code only if the expression following the if is equivalent to boolean `True`.**</span> \n",
    "\n",
    "<span style=\"color:Red\">`elif` **(\"else-if\") may optionally follow an `if` to check for subsequent conditions only if the `if` expression evaluates to `False`**. </span>\n",
    "\n",
    "<span style=\"color:Red\">**The final (and again *optional* statement), `else` is executed if all previous `if` and `elif` statements evaluate to `False`. While they are optional, it is good practice to include them (even if they execute nothing, using a `pass` statement).** </span>\n",
    "\n",
    "The basic syntax for an if-statement is the following\n",
    "\n",
    "    if condition1:\n",
    "        # do something \n",
    "    elif condition2:\n",
    "        # do something else\n",
    "    else:\n",
    "        # do yet something else\n",
    "\n",
    "<span style=\"color:MediumSeaGreen\">Notice that there is no statement to end the if statement as in other languages.</span>\n",
    "\n",
    "Additionally, unlike other languages, white space in Python matters\n",
    "\n",
    "<span style=\"color:MediumBlue\">The presence of a colon (``:``) after each control flow statement is similar to bracketing in other languages. All code following the colon is indented and grouped together. The grouping ends when code is no longer indented. </span>\n",
    "\n",
    "<span style=\"color:Red\">**Python relies on indentation and colons to determine whether it is in a specific block of code.**</span>"
   ]
  },
  {
   "cell_type": "markdown",
   "metadata": {
    "slideshow": {
     "slide_type": "slide"
    }
   },
   "source": [
    "An example of the if statement is provided in the following code:"
   ]
  },
  {
   "cell_type": "code",
   "execution_count": null,
   "metadata": {
    "ExecuteTime": {
     "end_time": "2022-05-22T16:59:51.737730Z",
     "start_time": "2022-05-22T16:59:51.734365Z"
    }
   },
   "outputs": [],
   "source": [
    "current_block = \"A\"\n",
    "\n",
    "if block_name == \"A\":\n",
    "    print(\"This is block A! Now picking up Block B\")\n",
    "    current_block = \"B\"\n",
    "\n",
    "print(\"finished\")"
   ]
  },
  {
   "cell_type": "markdown",
   "metadata": {
    "slideshow": {
     "slide_type": "fragment"
    }
   },
   "source": [
    "The first print statement and the ``current_block = \"B\"`` statement only get executed if ``current_block`` is A. On the other hand, ``print \"finished\"`` gets executed regardless, once Python exits the if statement.\n",
    "\n",
    "We can check current_block, to see that it changed from A to B."
   ]
  },
  {
   "cell_type": "code",
   "execution_count": null,
   "metadata": {
    "ExecuteTime": {
     "end_time": "2022-05-22T17:02:16.345281Z",
     "start_time": "2022-05-22T17:02:16.335752Z"
    }
   },
   "outputs": [],
   "source": [
    "print(current_block)"
   ]
  },
  {
   "cell_type": "markdown",
   "metadata": {
    "slideshow": {
     "slide_type": "slide"
    }
   },
   "source": [
    "<span style=\"font-size:1.5em;\">Important Note:</span>\n",
    "\n",
    "<span style=\"color:MediumBlue\">**Indentation is very important in Python, and the *convention* is to use four spaces (not tabs) for each level of indent.**</span>\n",
    "\n",
    "Spaces are considered best practice because four space characters take up less memory in file than a singular tab character\n",
    "\n",
    "<span style=\"color:Red\">**It is most important, however, to remain self-consistent within blocks of code.**</span> Python will throw errors if both spaces and tabs are used."
   ]
  },
  {
   "cell_type": "markdown",
   "metadata": {
    "editable": true,
    "slideshow": {
     "slide_type": "slide"
    },
    "tags": []
   },
   "source": [
    "<span style=\"font-size:1.5em;\">Back to the if-statements</span>:\n",
    "\n",
    "<span style=\"color:Red\">the conditions in the statements can be anything that returns a boolean value or can be cast to a boolean value.</span>\n",
    "\n",
    "For example, ``a == 1``, ``b != 4``, and ``c <= 5`` are valid conditions because they return either ``True`` or ``False`` depending on whether the statements are true or not.\n",
    "\n"
   ]
  },
  {
   "cell_type": "markdown",
   "metadata": {
    "slideshow": {
     "slide_type": "slide"
    }
   },
   "source": [
    "<span style=\"color:MediumBlue\">Standard comparisons can be used (``==`` for equal, ``!=`` for not equal, ``<=`` for less or equal, ``>=`` for greater or equal, ``<`` for less than, and ``>`` for greater than), as well as logical operators (``and``, ``or``, ``not``).</span> \n",
    "\n",
    "Parentheses can be used to isolate different parts of conditions, to make clear in what order the comparisons should be executed, for example:\n",
    "\n",
    "    if (a == 1 and b <= 3) or c > 3:\n",
    "        # do something\n",
    "\n",
    "<span style=\"color:MediumBlue\">More generally, any function or expression that ultimately returns ``True`` or ``False`` can be used.</span>\n",
    "\n",
    "As we saw in the previous lesson, many objects evaluate to `True` as long as they contain information, repeated below:"
   ]
  },
  {
   "cell_type": "code",
   "execution_count": null,
   "metadata": {},
   "outputs": [],
   "source": [
    "print(bool())\n",
    "print(bool(\"\"))\n",
    "print(bool([]))\n",
    "print(bool(()))\n",
    "print(bool({}))\n",
    "print(bool(None))"
   ]
  },
  {
   "cell_type": "code",
   "execution_count": null,
   "metadata": {},
   "outputs": [],
   "source": [
    "print(bool(float(\"NaN\")))"
   ]
  },
  {
   "cell_type": "code",
   "execution_count": null,
   "metadata": {},
   "outputs": [],
   "source": [
    "if 4:\n",
    "    print(\"Evaluated to True\")\n",
    "else:\n",
    "    print(\"Evaluated to False\")"
   ]
  },
  {
   "cell_type": "code",
   "execution_count": null,
   "metadata": {},
   "outputs": [],
   "source": [
    "a = []\n",
    "if a:\n",
    "    print(sum(a))\n",
    "else:\n",
    "    print(\"Array is Empty!\")"
   ]
  },
  {
   "cell_type": "code",
   "execution_count": null,
   "metadata": {},
   "outputs": [],
   "source": [
    "a = [1, 3, 5, 9]\n",
    "if a:\n",
    "    print(sum(a))\n",
    "else:\n",
    "    print(\"Array is Empty!\")"
   ]
  },
  {
   "cell_type": "markdown",
   "metadata": {},
   "source": [
    "***"
   ]
  },
  {
   "cell_type": "markdown",
   "metadata": {},
   "source": [
    "## ``for`` loops"
   ]
  },
  {
   "cell_type": "markdown",
   "metadata": {
    "slideshow": {
     "slide_type": "slide"
    }
   },
   "source": [
    "The most common type of loop in Python is the ``for`` loop. \n",
    "\n",
    "<span style=\"color:Red\">**The `for` loop repeats a section of code for every member in an <ins>iterator</ins> (a sequence of Objects that has a concept of a \"next\" Object in series)**</span>\n",
    "\n",
    "In its most basic form, it is straightforward:\n",
    "\n",
    "    for value in iterable:\n",
    "        # do things\n",
    "\n",
    "<span style=\"color:MediumBlue\">The ``iterable`` can be any Python object that can generate an iterator. This includes lists, strings, ranges, dictionaries, tuples, and sets</span> \n",
    "\n",
    "<span style=\"color:MediumBlue\">Generating an iterator utilizes the `iter()` method, which python will do for you when you use a `for` loop</span>\n",
    "\n",
    "<span style=\"color:MediumSeaGreen\">Defining your own class of iterator requires you to define `__iter__()` and `__next__()`, much the same way we defined `__eq__()` in the previous lecture to implement equalivance checking</span>"
   ]
  },
  {
   "cell_type": "code",
   "execution_count": null,
   "metadata": {
    "ExecuteTime": {
     "end_time": "2022-05-22T17:05:36.641729Z",
     "start_time": "2022-05-22T17:05:36.637694Z"
    },
    "slideshow": {
     "slide_type": "slide"
    }
   },
   "outputs": [],
   "source": [
    "for x in [3, 1.2, 'a']:\n",
    "    print(x)"
   ]
  },
  {
   "cell_type": "code",
   "execution_count": null,
   "metadata": {
    "ExecuteTime": {
     "end_time": "2022-05-22T17:34:33.473562Z",
     "start_time": "2022-05-22T17:34:33.469117Z"
    }
   },
   "outputs": [],
   "source": [
    "for letter in 'hello':\n",
    "    print(letter, end=\" \")"
   ]
  },
  {
   "cell_type": "markdown",
   "metadata": {},
   "source": [
    "<span style=\"color:Red\">**Loops can be nested, and the inside loop will finish before the outside loop moves on to its next iterable.**</span>"
   ]
  },
  {
   "cell_type": "code",
   "execution_count": null,
   "metadata": {
    "ExecuteTime": {
     "end_time": "2022-05-22T17:08:31.935972Z",
     "start_time": "2022-05-22T17:08:31.931418Z"
    }
   },
   "outputs": [],
   "source": [
    "for x in [3, 1.2, 'a']:\n",
    "    for y in ['h', 'e', 'l', 'l', 'o']:\n",
    "        print(y, end=\" \")\n",
    "    print(x)"
   ]
  },
  {
   "cell_type": "markdown",
   "metadata": {
    "slideshow": {
     "slide_type": "slide"
    }
   },
   "source": [
    "<span style=\"color:MediumBlue\">A common type of for loop is one where the value should go between two integers with a specific set size. To do this, we can use the ``range`` function. If given a single value, it will allow you to iterate from 0 to the value minus 1:</span>"
   ]
  },
  {
   "cell_type": "code",
   "execution_count": null,
   "metadata": {
    "ExecuteTime": {
     "end_time": "2022-05-22T17:08:07.656507Z",
     "start_time": "2022-05-22T17:08:07.651528Z"
    }
   },
   "outputs": [],
   "source": [
    "for i in range(5):\n",
    "    print(i, end=\" \")"
   ]
  },
  {
   "cell_type": "code",
   "execution_count": null,
   "metadata": {
    "ExecuteTime": {
     "end_time": "2022-05-22T17:08:11.767561Z",
     "start_time": "2022-05-22T17:08:11.763231Z"
    }
   },
   "outputs": [],
   "source": [
    "for i in range(3, 12):\n",
    "    print(i, end=\" \")"
   ]
  },
  {
   "cell_type": "code",
   "execution_count": null,
   "metadata": {
    "ExecuteTime": {
     "end_time": "2022-05-22T17:08:16.021400Z",
     "start_time": "2022-05-22T17:08:16.017008Z"
    }
   },
   "outputs": [],
   "source": [
    "for i in range(2, 20, 2):  # the third entry specifies the \"step size\"\n",
    "    print(i, end=\" \")"
   ]
  },
  {
   "cell_type": "markdown",
   "metadata": {},
   "source": [
    "<span style=\"color:MediumBlue\">To see what values `range` will loop over, it can be converted to a list or tuple</span>"
   ]
  },
  {
   "cell_type": "code",
   "execution_count": null,
   "metadata": {
    "ExecuteTime": {
     "end_time": "2022-05-22T17:10:51.793214Z",
     "start_time": "2022-05-22T17:10:51.788630Z"
    }
   },
   "outputs": [],
   "source": [
    "print(list(range(5)))\n",
    "print(tuple(range(5)))"
   ]
  },
  {
   "cell_type": "markdown",
   "metadata": {},
   "source": [
    "<span style=\"color:Red\">If you try iterating over a dictionary, it will iterate over the **keys** (not the values) in the order they are added</span>\n",
    "\n",
    "Note: In older versions of python, dictionaries did NOT have an order, and thus order preservation was not guaranteed. "
   ]
  },
  {
   "cell_type": "code",
   "execution_count": null,
   "metadata": {
    "ExecuteTime": {
     "end_time": "2022-05-22T17:12:24.405121Z",
     "start_time": "2022-05-22T17:12:24.400914Z"
    }
   },
   "outputs": [],
   "source": [
    "d = {'a': 1, 'b': 2, 'c': 3}\n",
    "for key in d:\n",
    "    print(key)"
   ]
  },
  {
   "cell_type": "markdown",
   "metadata": {},
   "source": [
    "But you can easily get the value with:"
   ]
  },
  {
   "cell_type": "code",
   "execution_count": null,
   "metadata": {
    "ExecuteTime": {
     "end_time": "2022-05-22T17:11:23.550756Z",
     "start_time": "2022-05-22T17:11:23.548007Z"
    }
   },
   "outputs": [],
   "source": [
    "for key in d:\n",
    "    print(key, d[key])"
   ]
  },
  {
   "cell_type": "markdown",
   "metadata": {},
   "source": [
    "or:"
   ]
  },
  {
   "cell_type": "code",
   "execution_count": null,
   "metadata": {
    "ExecuteTime": {
     "end_time": "2022-05-22T17:11:24.568707Z",
     "start_time": "2022-05-22T17:11:24.565522Z"
    }
   },
   "outputs": [],
   "source": [
    "for key, value in d.items():\n",
    "    print(key, value)"
   ]
  },
  {
   "cell_type": "markdown",
   "metadata": {},
   "source": [
    "***"
   ]
  },
  {
   "cell_type": "markdown",
   "metadata": {},
   "source": [
    "### Exercise 1"
   ]
  },
  {
   "cell_type": "markdown",
   "metadata": {},
   "source": [
    "Write a program that will print out all the prime numbers (numbers divisible only by one and themselves) below 1000.\n",
    "\n",
    "Hint: the ``%`` operator can be used to find the remainder of the division of an integer by another:"
   ]
  },
  {
   "cell_type": "code",
   "execution_count": null,
   "metadata": {
    "ExecuteTime": {
     "end_time": "2022-05-22T17:36:44.734125Z",
     "start_time": "2022-05-22T17:36:44.727004Z"
    }
   },
   "outputs": [],
   "source": [
    "print(20 % 3)  # Non-zero remainder => 20 is not divisibile by 3\n",
    "print(20 % 4)  # Zero remainder => 20 is divisible by 4"
   ]
  },
  {
   "cell_type": "code",
   "execution_count": null,
   "metadata": {
    "ExecuteTime": {
     "end_time": "2022-05-22T17:53:08.333318Z",
     "start_time": "2022-05-22T17:53:08.331019Z"
    }
   },
   "outputs": [],
   "source": [
    "# enter your solution here\n"
   ]
  },
  {
   "cell_type": "markdown",
   "metadata": {},
   "source": [
    "***"
   ]
  },
  {
   "cell_type": "markdown",
   "metadata": {},
   "source": [
    "## Exiting or continuing a loop"
   ]
  },
  {
   "cell_type": "markdown",
   "metadata": {
    "slideshow": {
     "slide_type": "slide"
    }
   },
   "source": [
    "<span style=\"color:Red\">**There are two useful statements that can be called in a loop - ``break`` and ``continue``. When called, ``break`` will exit the loop it is currently in:**</span>"
   ]
  },
  {
   "cell_type": "code",
   "execution_count": null,
   "metadata": {
    "ExecuteTime": {
     "end_time": "2022-05-22T17:50:08.544342Z",
     "start_time": "2022-05-22T17:50:08.541124Z"
    }
   },
   "outputs": [],
   "source": [
    "for i in range(10):\n",
    "    print(i, end=\" \")\n",
    "    if i == 3:\n",
    "        break"
   ]
  },
  {
   "cell_type": "markdown",
   "metadata": {
    "slideshow": {
     "slide_type": "slide"
    }
   },
   "source": [
    "<span style=\"color:Red\">**The other is ``continue``, which will ignore the rest of the loop and go straight to the next iteration:**</span>"
   ]
  },
  {
   "cell_type": "code",
   "execution_count": null,
   "metadata": {
    "ExecuteTime": {
     "end_time": "2022-05-22T17:50:19.559205Z",
     "start_time": "2022-05-22T17:50:19.554764Z"
    }
   },
   "outputs": [],
   "source": [
    "for i in range(10):\n",
    "    if i == 2 or i == 8:\n",
    "        continue\n",
    "    print(i, end=\" \")"
   ]
  },
  {
   "cell_type": "markdown",
   "metadata": {},
   "source": [
    "***"
   ]
  },
  {
   "cell_type": "markdown",
   "metadata": {},
   "source": [
    "### Exercise 2"
   ]
  },
  {
   "cell_type": "markdown",
   "metadata": {},
   "source": [
    "When checking if a value is prime, as soon as you have found that the value is divisble by a single value, the value is therefore not prime and there is no need to continue checking whether it is divisible by other values. Copy your solution from above and modify it to break out of the loop once this is the case."
   ]
  },
  {
   "cell_type": "code",
   "execution_count": null,
   "metadata": {},
   "outputs": [],
   "source": [
    "# enter your solution here\n"
   ]
  },
  {
   "cell_type": "markdown",
   "metadata": {},
   "source": [
    "***"
   ]
  },
  {
   "cell_type": "markdown",
   "metadata": {},
   "source": [
    "## ``while`` loops"
   ]
  },
  {
   "cell_type": "markdown",
   "metadata": {
    "slideshow": {
     "slide_type": "slide"
    }
   },
   "source": [
    "Similarly to other programming languages, Python also provides <span style=\"color:Red\">**a ``while`` loop which is similar to a ``for`` loop, but where the number of iterations is defined by a condition rather than an iterator:**</span>\n",
    "\n",
    "    while condition:\n",
    "        # do something\n",
    "\n",
    "<span style=\"color:Red\">**At the START of every loop, the condition is re-evaluated.**</span> If it remains `True`, the next loop is executed. If it evaluates to `False`, the next loop does NOT execute, and code resumes execution outside of the loop"
   ]
  },
  {
   "cell_type": "markdown",
   "metadata": {
    "slideshow": {
     "slide_type": "slide"
    }
   },
   "source": [
    "For example, in the following example:"
   ]
  },
  {
   "cell_type": "code",
   "execution_count": null,
   "metadata": {
    "ExecuteTime": {
     "end_time": "2022-05-22T17:54:56.326532Z",
     "start_time": "2022-05-22T17:54:56.321052Z"
    }
   },
   "outputs": [],
   "source": [
    "a = 1\n",
    "while a < 10:\n",
    "    print(a)\n",
    "    a = a * 1.5\n",
    "print(\"Once the while loop has completed, a has the value\", a)"
   ]
  },
  {
   "cell_type": "markdown",
   "metadata": {},
   "source": [
    "the loop is executed until ``a`` is equal to or exceeds 10."
   ]
  },
  {
   "cell_type": "markdown",
   "metadata": {},
   "source": [
    "<span style=\"color:MediumBlue\">**WARNING:** Even though `while` loops are more flexible than `for` loops, they are not generally recommended unless necessary. This is because if you forget to update a variable, or have another small bug, it is easy to run into an infinite loop where the condition is never met and your code never finishes running. So, try being careful in this next exercise. If you have an inifinite loop, you can interrupt the kernel with the square icon next to the \"Run\" icon at the top of the notebook. If you were running code on a terminal, you could stop your code with a `KeyboardInterrupt` by typing `Ctrl+C`.</span>"
   ]
  },
  {
   "cell_type": "markdown",
   "metadata": {},
   "source": [
    "***"
   ]
  },
  {
   "cell_type": "markdown",
   "metadata": {},
   "source": [
    "### Exercise 3"
   ]
  },
  {
   "cell_type": "markdown",
   "metadata": {},
   "source": [
    "Write a program (using a ``while`` loop) that will find the Fibonacci sequence up to (and excluding) 100000. The two first numbers are 0 and 1, and every subsequent number is the sum of the two previous ones, so the sequence starts ``[0, 1, 1, 2, 3, 5, ...]``.\n",
    "\n",
    "Optional: Store the sequence inside a Python list, and only print out the whole list to the screen once all the numbers are available. Then, check whether any of the numbers in the sequence are a square (e.g. ``0*0``, ``1*1``, ``2*2``, ``3*3``, ``4*4``) and print out those that are."
   ]
  },
  {
   "cell_type": "code",
   "execution_count": null,
   "metadata": {
    "ExecuteTime": {
     "end_time": "2022-05-22T18:14:32.098967Z",
     "start_time": "2022-05-22T18:14:32.096848Z"
    }
   },
   "outputs": [],
   "source": [
    "# enter your solution here\n"
   ]
  },
  {
   "cell_type": "markdown",
   "metadata": {},
   "source": [
    "***"
   ]
  },
  {
   "cell_type": "markdown",
   "metadata": {},
   "source": [
    "## Pass"
   ]
  },
  {
   "cell_type": "markdown",
   "metadata": {},
   "source": [
    "<span style=\"color:MediumBlue\">The `pass` statement is essentially \"do nothing\"</span>\n",
    "\n",
    "<span style=\"color:Red\">**Indented blocks of code cannot be empty.**</span> \n",
    "\n",
    "If you ever write a block of code that *should* do nothing but cannot be syntatically correct as empty, use the `pass` statement"
   ]
  },
  {
   "cell_type": "code",
   "execution_count": 1,
   "metadata": {},
   "outputs": [
    {
     "ename": "SyntaxError",
     "evalue": "incomplete input (377647775.py, line 1)",
     "output_type": "error",
     "traceback": [
      "\u001b[0;36m  Cell \u001b[0;32mIn[1], line 1\u001b[0;36m\u001b[0m\n\u001b[0;31m    for i in range(3):\u001b[0m\n\u001b[0m                      ^\u001b[0m\n\u001b[0;31mSyntaxError\u001b[0m\u001b[0;31m:\u001b[0m incomplete input\n"
     ]
    }
   ],
   "source": [
    "for i in range(3):\n"
   ]
  },
  {
   "cell_type": "code",
   "execution_count": 2,
   "metadata": {},
   "outputs": [],
   "source": [
    "for i in range(3):\n",
    "    pass"
   ]
  },
  {
   "cell_type": "code",
   "execution_count": null,
   "metadata": {},
   "outputs": [],
   "source": []
  },
  {
   "cell_type": "markdown",
   "metadata": {},
   "source": [
    "***"
   ]
  },
  {
   "cell_type": "markdown",
   "metadata": {},
   "source": [
    "## Match"
   ]
  },
  {
   "cell_type": "markdown",
   "metadata": {},
   "source": [
    "<span style=\"color:Red\">**The `match` statement is Python's implementation of `switch` statements in other languages. It is essentially a simplified version of a series of `if/elif` statements**</span>\n",
    "\n",
    "<span style=\"color:MediumBlue\">**The `match` statement performs comparison using** `==`</span>\n",
    "\n",
    "Standard syntax is seen below:\n",
    "    \n",
    "    x = <Object>\n",
    "\n",
    "    match x:\n",
    "        case a:\n",
    "            # Code here\n",
    "        case b:\n",
    "            # Code here\n",
    "        case c:\n",
    "            # Code here\n",
    "        case d:\n",
    "            # Code here\n",
    "        case e:\n",
    "            # Code here\n",
    "        case _:\n",
    "            # Code here\n",
    "\n",
    "Each `case` object is compared to the match object, <span style=\"color:Red\">**in sequential order**</span>. If any comparison returns `True`, the subsequent code is executed, <span style=\"color:Red\">**and the match search ends. No further comparisons are made.**</span>\n",
    "\n",
    "The `_` case is the \"default\". If all other matches fail, the `_` code is executed. **This case is optional.**"
   ]
  },
  {
   "cell_type": "code",
   "execution_count": null,
   "metadata": {},
   "outputs": [],
   "source": [
    "a = 3\n",
    "\n",
    "match a:\n",
    "    case 2:\n",
    "        pass\n",
    "    case 4:\n",
    "        pass\n",
    "    case 8:\n",
    "        pass\n",
    "    case 10:\n",
    "        pass\n",
    "    case _:\n",
    "        print(\"defaulted\")"
   ]
  },
  {
   "cell_type": "markdown",
   "metadata": {},
   "source": [
    "***"
   ]
  },
  {
   "cell_type": "markdown",
   "metadata": {},
   "source": [
    "## <span style=\"color:MediumBlue\">Important Note: Best Practices and Time Complexity</span>"
   ]
  },
  {
   "cell_type": "markdown",
   "metadata": {},
   "source": [
    "Plenty of problems will present like the simplest and clearest solution is to use nested loops\n",
    "\n",
    "For example, \"perform x operation on every piece of information in a 3D IFU cube\" might make you approach the problem as such \n",
    "\n",
    "    for spatial_row in rows:\n",
    "        for spatial_column in cols[spatial_row]:\n",
    "            for wavelength in wavelengths[spatial_column]:\n",
    "                perform x\n",
    "\n",
    "And this isn't strictly *wrong*, and sometimes will be necessary\n",
    "\n",
    "<span style=\"font-size:1.5em;\">*However*</span>\n",
    "\n",
    "<span style=\"font-size:1.1em;\">It is bad practice. </span>\n",
    "\n",
    "Over-nesting makes code inefficient, difficult to read, and even more difficult to debug.\n",
    "\n",
    "When possible, it is better to use functions (next lecture) to improve clarity, and vector operations (rather than scalar operations in the above loops) to optimize code\n",
    "\n",
    "Programmers use Big-O notation to approximate time complexity of their algorithms, using `n` to represent the size of an input.\n",
    "\n",
    "In the case above with 3 nested loops, and `n` representing the \"length\" of a \"side\" of the cube, the outer loop will happen `n` times. During each of those `n` outer loops, the middle loop will execute `n` times. During each of those middle loops, the inner loop will execute `n` times, meaning the entire code block will execute $ n^3 $ times. (We'd call it $ \\mathcal{O}(n^3) $ )\n",
    "\n",
    "So if you double `n`, the time increases by roughly a factor of 8\n",
    "\n",
    "Because of these scalings, it is good practice to minimize the depth of nested loops (many people recommend no deeper than 3 loops)"
   ]
  },
  {
   "cell_type": "code",
   "execution_count": null,
   "metadata": {},
   "outputs": [],
   "source": []
  }
 ],
 "metadata": {
  "anaconda-cloud": {},
  "kernelspec": {
   "display_name": "Python 3 (ipykernel)",
   "language": "python",
   "name": "python3"
  },
  "language_info": {
   "codemirror_mode": {
    "name": "ipython",
    "version": 3
   },
   "file_extension": ".py",
   "mimetype": "text/x-python",
   "name": "python",
   "nbconvert_exporter": "python",
   "pygments_lexer": "ipython3",
   "version": "3.11.4"
  },
  "toc": {
   "base_numbering": 1,
   "nav_menu": {},
   "number_sections": true,
   "sideBar": true,
   "skip_h1_title": false,
   "title_cell": "Table of Contents",
   "title_sidebar": "Contents",
   "toc_cell": false,
   "toc_position": {},
   "toc_section_display": true,
   "toc_window_display": false
  }
 },
 "nbformat": 4,
 "nbformat_minor": 4
}
