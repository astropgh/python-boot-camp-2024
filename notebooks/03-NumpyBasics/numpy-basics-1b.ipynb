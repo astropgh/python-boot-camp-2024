{
 "cells": [
  {
   "cell_type": "code",
   "execution_count": null,
   "metadata": {
    "ExecuteTime": {
     "end_time": "2023-05-20T03:25:36.741545Z",
     "start_time": "2023-05-20T03:25:36.636425Z"
    }
   },
   "outputs": [],
   "source": [
    "import numpy as np"
   ]
  },
  {
   "cell_type": "markdown",
   "metadata": {},
   "source": [
    "# The Numpy array vs. the built-in Python list\n",
    "\n",
    "![texte](https://jakevdp.github.io/PythonDataScienceHandbook/figures/array_vs_list.png)\n",
    "\n",
    "- With Numpy, you are able to specify the exact format (a.k.a. dtype) of the data.\n",
    "- This formatted data is stored in one concise place in your memory, *in order*\n",
    "- Therefore, Numpy has some clear advantages:\n",
    "    - Your computer doesn't have to search around for the location of every single element\n",
    "    - Mathematical operations are guaranteed to work in the same way for every element (for example, note that the same mathematical operation might be algorithmically very different for `float` vs `int` dtypes)"
   ]
  },
  {
   "cell_type": "markdown",
   "metadata": {},
   "source": [
    "# Array creation methods review (with dtypes in mind)"
   ]
  },
  {
   "cell_type": "markdown",
   "metadata": {},
   "source": [
    "## `np.arange` (arguments: [start=0,] stop, [step=1])"
   ]
  },
  {
   "cell_type": "code",
   "execution_count": null,
   "metadata": {
    "ExecuteTime": {
     "end_time": "2023-05-20T03:25:38.012709Z",
     "start_time": "2023-05-20T03:25:38.004070Z"
    }
   },
   "outputs": [],
   "source": [
    "# np.arange creates int arrays by default if the arguments are ints (5 is an int)\n",
    "a = np.arange(5)\n",
    "a"
   ]
  },
  {
   "cell_type": "code",
   "execution_count": null,
   "metadata": {
    "ExecuteTime": {
     "end_time": "2023-05-20T03:25:38.307598Z",
     "start_time": "2023-05-20T03:25:38.303482Z"
    }
   },
   "outputs": [],
   "source": [
    "# We can easily convert ints to floats and vice versa with the .astype() method\n",
    "a.astype(float)"
   ]
  },
  {
   "cell_type": "code",
   "execution_count": null,
   "metadata": {
    "ExecuteTime": {
     "end_time": "2023-05-20T03:25:38.630682Z",
     "start_time": "2023-05-20T03:25:38.626435Z"
    }
   },
   "outputs": [],
   "source": [
    "# We also could have just specified dtype=float during construction\n",
    "np.arange(4, 10, 2, dtype=float)"
   ]
  },
  {
   "cell_type": "markdown",
   "metadata": {},
   "source": [
    "## `np.zeros`, `np.ones` (only positional argument is shape, a.k.a. array size)"
   ]
  },
  {
   "cell_type": "code",
   "execution_count": null,
   "metadata": {
    "ExecuteTime": {
     "end_time": "2023-05-20T03:25:39.201004Z",
     "start_time": "2023-05-20T03:25:39.196412Z"
    }
   },
   "outputs": [],
   "source": [
    "# These create floats by default\n",
    "np.ones(3), np.zeros(4)"
   ]
  },
  {
   "cell_type": "code",
   "execution_count": null,
   "metadata": {
    "ExecuteTime": {
     "end_time": "2023-05-20T03:25:39.424018Z",
     "start_time": "2023-05-20T03:25:39.418457Z"
    }
   },
   "outputs": [],
   "source": [
    "np.ones(3, dtype=int), np.zeros(3, dtype=int)"
   ]
  },
  {
   "cell_type": "code",
   "execution_count": null,
   "metadata": {
    "ExecuteTime": {
     "end_time": "2023-05-20T03:25:39.717616Z",
     "start_time": "2023-05-20T03:25:39.713082Z"
    }
   },
   "outputs": [],
   "source": [
    "# They are also commonly used for the boolean dtype, where 1=True and 0=False\n",
    "np.ones(3, dtype=bool), np.zeros(3, dtype=bool)"
   ]
  },
  {
   "cell_type": "markdown",
   "metadata": {},
   "source": [
    "## `np.linspace`, `np.logspace` (arguments: start, stop, [num=50])"
   ]
  },
  {
   "cell_type": "code",
   "execution_count": null,
   "metadata": {
    "ExecuteTime": {
     "end_time": "2023-05-20T03:25:40.176292Z",
     "start_time": "2023-05-20T03:25:40.171040Z"
    }
   },
   "outputs": [],
   "source": [
    "# np.linspace() generates `num` numbers between (and including) `start` and `stop`\n",
    "# intermediate numbers are spaced evenly in linear-space - dtype is float by default\n",
    "np.linspace(1, 10, 10)"
   ]
  },
  {
   "cell_type": "code",
   "execution_count": null,
   "metadata": {
    "ExecuteTime": {
     "end_time": "2023-05-20T03:25:40.452709Z",
     "start_time": "2023-05-20T03:25:40.448278Z"
    }
   },
   "outputs": [],
   "source": [
    "# np.logspace() generates `num` numbers between (and including) 10^(`start`) and 10^(`stop`)\n",
    "# intermediate numbers are spaced evenly in log-space - equivalent to 10 ** np.linspace(...)\n",
    "np.logspace(0, 1, 10)"
   ]
  },
  {
   "cell_type": "code",
   "execution_count": null,
   "metadata": {
    "ExecuteTime": {
     "end_time": "2023-05-20T03:25:40.680348Z",
     "start_time": "2023-05-20T03:25:40.674352Z"
    }
   },
   "outputs": [],
   "source": [
    "# While you could construct these with ints or bools, it probably wouldn't make much sense.\n",
    "# But, you can change the precision of the float by\n",
    "# specifying dtype = np.float128, np.float64 (default float), np.float32, and np.float16\n",
    "np.logspace(0, 1, 10, dtype=np.float16)"
   ]
  },
  {
   "cell_type": "markdown",
   "metadata": {},
   "source": [
    "## `np.array` (argument: any iterable, e.g. a list)"
   ]
  },
  {
   "cell_type": "code",
   "execution_count": null,
   "metadata": {
    "ExecuteTime": {
     "end_time": "2023-05-20T03:25:41.273314Z",
     "start_time": "2023-05-20T03:25:41.269069Z"
    }
   },
   "outputs": [],
   "source": [
    "# If all elements of the list are ints, the array dtype will be int\n",
    "np.array([1, 2, 3])"
   ]
  },
  {
   "cell_type": "code",
   "execution_count": null,
   "metadata": {
    "ExecuteTime": {
     "end_time": "2023-05-20T03:25:41.514229Z",
     "start_time": "2023-05-20T03:25:41.509847Z"
    }
   },
   "outputs": [],
   "source": [
    "# If there are any floats, everything will be converted to floats\n",
    "np.array([1.0, 2, 3])"
   ]
  },
  {
   "cell_type": "code",
   "execution_count": null,
   "metadata": {
    "ExecuteTime": {
     "end_time": "2023-05-20T03:25:41.717122Z",
     "start_time": "2023-05-20T03:25:41.713052Z"
    }
   },
   "outputs": [],
   "source": [
    "# If there are any other Python objects, numerical operations might not work\n",
    "a = np.array([1, \"2.0\", set()])\n",
    "b = np.array([\"1\", \"2.0\", None])\n",
    "print(a.dtype)\n",
    "print(a == b)  # some operations may work, but there is no performance benefit for object arrays"
   ]
  },
  {
   "cell_type": "markdown",
   "metadata": {},
   "source": [
    "## `np.random.default_rng()` to generate random numbers\n",
    "\n",
    "First create a random number generator: `rng = np.random.default_rng()`.\n",
    "- `rng.uniform(low=0, high=1, size=None)`: Uniform distribution over [low, high)\n",
    "- `rng.normal(loc=0, scale=1, size=None)`: Normal distribution\n",
    "- `rng.poisson(lam, size=None)`: Poisson distribution\n",
    "- Many more distributions to choose from\n",
    "- (and in principle, you can transform `rng.uniform` to any mathematical distribution you like)"
   ]
  },
  {
   "cell_type": "code",
   "execution_count": null,
   "metadata": {
    "ExecuteTime": {
     "end_time": "2023-05-20T03:25:42.695156Z",
     "start_time": "2023-05-20T03:25:42.690680Z"
    }
   },
   "outputs": [],
   "source": [
    "# Try changing the bounds and size parameter to generate an array with several elements\n",
    "rng = np.random.default_rng()\n",
    "rng.uniform()"
   ]
  },
  {
   "cell_type": "code",
   "execution_count": null,
   "metadata": {
    "ExecuteTime": {
     "end_time": "2023-05-20T03:25:42.917953Z",
     "start_time": "2023-05-20T03:25:42.913776Z"
    }
   },
   "outputs": [],
   "source": [
    "# Try changing the loc and scale parameters to change the center/width of the normal distribution\n",
    "rng.normal()"
   ]
  },
  {
   "cell_type": "code",
   "execution_count": null,
   "metadata": {
    "ExecuteTime": {
     "end_time": "2023-05-20T03:25:43.230553Z",
     "start_time": "2023-05-20T03:25:43.226589Z"
    }
   },
   "outputs": [],
   "source": [
    "# Try changing the number of degrees of freedom and size of output array\n",
    "rng.poisson()"
   ]
  },
  {
   "cell_type": "markdown",
   "metadata": {},
   "source": [
    "# Array Methods\n",
    "Like all other data structures in Python, NumPy arrays are objects. These objects have methods associated with them.   \n",
    "Recall that methods are just like functions but are associated with an object. Whereas functions take an object as an input and return another object as the output, methods act on the object they are associated with and may alter the object itself. Here's an example, the `array.sum()` **method** returns the sum of all the elements of the array. The `np.sum()` **function** takes an array as its input and returns the sum of its elements as outputs. Both do the same thing but are accessed in different ways. A complete lists of methods and attributes associated with any NumPy array can be found [here](https://docs.scipy.org/doc/numpy/reference/generated/numpy.ndarray.html)"
   ]
  },
  {
   "cell_type": "code",
   "execution_count": null,
   "metadata": {
    "ExecuteTime": {
     "end_time": "2023-05-20T03:25:44.472187Z",
     "start_time": "2023-05-20T03:25:44.467056Z"
    }
   },
   "outputs": [],
   "source": [
    "pos_1 = np.array([1, 2, 3])\n",
    "pos_1.sum()"
   ]
  },
  {
   "cell_type": "code",
   "execution_count": null,
   "metadata": {
    "ExecuteTime": {
     "end_time": "2023-05-20T03:25:44.779034Z",
     "start_time": "2023-05-20T03:25:44.774513Z"
    }
   },
   "outputs": [],
   "source": [
    "np.sum(pos_1)"
   ]
  },
  {
   "cell_type": "markdown",
   "metadata": {},
   "source": [
    "# Element-wise comparisons"
   ]
  },
  {
   "cell_type": "markdown",
   "metadata": {},
   "source": [
    "Operators like `<`, `>`, `<=`, `>=`, `==`, and `!=` work element-wise over Numpy arrays"
   ]
  },
  {
   "cell_type": "code",
   "execution_count": null,
   "metadata": {
    "ExecuteTime": {
     "end_time": "2023-05-20T03:25:45.772228Z",
     "start_time": "2023-05-20T03:25:45.768382Z"
    }
   },
   "outputs": [],
   "source": [
    "a = np.array([1, 2, 3, 4, 5])\n",
    "b = np.array([5, 4, 3, 2, 1])\n",
    "print(a < b)\n",
    "print(a == b)"
   ]
  },
  {
   "cell_type": "markdown",
   "metadata": {},
   "source": [
    "We can save the output \"boolean\" arrays of True and False values. These arrays can be useful for \"masking\" or calculating the fraction of values which are True, for example."
   ]
  },
  {
   "cell_type": "code",
   "execution_count": null,
   "metadata": {
    "ExecuteTime": {
     "end_time": "2023-05-20T03:25:46.575152Z",
     "start_time": "2023-05-20T03:25:46.572318Z"
    }
   },
   "outputs": [],
   "source": [
    "a_less_than_b = a < b\n",
    "print(a_less_than_b)"
   ]
  },
  {
   "cell_type": "code",
   "execution_count": null,
   "metadata": {
    "ExecuteTime": {
     "end_time": "2023-05-20T03:25:46.889081Z",
     "start_time": "2023-05-20T03:25:46.885936Z"
    }
   },
   "outputs": [],
   "source": [
    "# We can mask a and b to only show their values where a is less than b\n",
    "print(a[a_less_than_b])\n",
    "print(b[a_less_than_b])"
   ]
  },
  {
   "cell_type": "code",
   "execution_count": null,
   "metadata": {
    "ExecuteTime": {
     "end_time": "2023-05-20T03:25:47.695752Z",
     "start_time": "2023-05-20T03:25:47.692487Z"
    }
   },
   "outputs": [],
   "source": [
    "# Since True = 1 and False = 0, we can use sum to find how many values in `a` are less than their `b` counterpart\n",
    "print(\"There are\", np.sum(a_less_than_b), \"values of a less than b\")"
   ]
  },
  {
   "cell_type": "code",
   "execution_count": null,
   "metadata": {},
   "outputs": [],
   "source": [
    "# We can find the opposite of a boolean array\n",
    "print(a_less_than_b)\n",
    "print(np.logical_not(a_less_than_b))"
   ]
  },
  {
   "cell_type": "markdown",
   "metadata": {},
   "source": [
    "## Calculate the *percentage* of values in `a` that are less than their `b` counterpart"
   ]
  },
  {
   "cell_type": "code",
   "execution_count": null,
   "metadata": {
    "ExecuteTime": {
     "end_time": "2023-05-20T03:25:49.001480Z",
     "start_time": "2023-05-20T03:25:48.998671Z"
    }
   },
   "outputs": [],
   "source": [
    "## INSERT CODE HERE ##"
   ]
  },
  {
   "cell_type": "markdown",
   "metadata": {},
   "source": [
    "# Exercise: Generating random numbers and masking\n",
    "\n",
    "1. Generate an array of length 100,000 where each element is drawn from a Gaussian distribution with\n",
    "    - population mean $\\mu = 4$ and\n",
    "    - population scatter $\\sigma = 2$\n",
    "2. What is the fraction of elements whose value is less than zero?\n",
    "3. Use the matplotlib skills you learned yesterday and plot a histogram of your generated values\n",
    "    - make all positive values a different color from negative values"
   ]
  },
  {
   "cell_type": "code",
   "execution_count": null,
   "metadata": {
    "ExecuteTime": {
     "end_time": "2023-05-20T03:25:52.504577Z",
     "start_time": "2023-05-20T03:25:52.496161Z"
    }
   },
   "outputs": [],
   "source": [
    "## INSERT CODE HERE ##"
   ]
  },
  {
   "cell_type": "code",
   "execution_count": null,
   "metadata": {
    "ExecuteTime": {
     "end_time": "2023-05-20T03:25:54.224327Z",
     "start_time": "2023-05-20T03:25:53.156692Z"
    }
   },
   "outputs": [],
   "source": [
    "import matplotlib.pyplot as plt\n",
    "## INSERT PLOTTING CODE HERE ##"
   ]
  },
  {
   "cell_type": "markdown",
   "metadata": {},
   "source": [
    "# More mathematical functions"
   ]
  },
  {
   "cell_type": "markdown",
   "metadata": {},
   "source": [
    "In addition to the elementary operations (`+`, `-`, `*`, `/`), Numpy has a host of built-in mathematical functions which also operate element wise. These functions are generally faster than using loops to calculate the value of the function on each element. Let's see this in action by calculating the $\\sin$ of an array using traditional python and also NumPy. We will measure the runtime using the `%%timeit` magic command."
   ]
  },
  {
   "cell_type": "code",
   "execution_count": null,
   "metadata": {
    "ExecuteTime": {
     "end_time": "2023-05-20T03:26:12.603535Z",
     "start_time": "2023-05-20T03:26:12.600652Z"
    }
   },
   "outputs": [],
   "source": [
    "from math import sin"
   ]
  },
  {
   "cell_type": "code",
   "execution_count": null,
   "metadata": {
    "ExecuteTime": {
     "end_time": "2023-05-20T03:26:24.817416Z",
     "start_time": "2023-05-20T03:26:13.016066Z"
    }
   },
   "outputs": [],
   "source": [
    "%%timeit\n",
    "\n",
    "vals = [i for i in range(10000)] # Create a list of 10,000 integers starting with 0\n",
    "sin_vals = [sin(i) for i in vals] # Use a for loop to calculate the sin of each integers"
   ]
  },
  {
   "cell_type": "markdown",
   "metadata": {},
   "source": [
    "**NOTE:** The above way of using `for` loop to generate a list is called list comprehension. So this line of code\n",
    "```python\n",
    "numbers = [2 * i for i in range(100)]\n",
    "```\n",
    "is equivalent to doing\n",
    "```python\n",
    "numbers = []\n",
    "for i in range(100):\n",
    "    numbers.append(2 * i)\n",
    "```\n",
    "Both achieve the same thing, the former is the more \"pythonic\" way."
   ]
  },
  {
   "cell_type": "code",
   "execution_count": null,
   "metadata": {
    "ExecuteTime": {
     "end_time": "2023-05-20T03:26:26.754675Z",
     "start_time": "2023-05-20T03:26:24.820392Z"
    }
   },
   "outputs": [],
   "source": [
    "%%timeit\n",
    "\n",
    "vals = np.arange(10000)\n",
    "sin_vals = np.sin(vals)"
   ]
  },
  {
   "cell_type": "markdown",
   "metadata": {},
   "source": [
    "As seen above we can use the NumPy `sin` function which takes an array as its input. Almost all common mathematical functions are implemented as native numpy functions. A complete list can be found [here](https://numpy.org/doc/stable/reference/routines.math.html?highlight=mathematical%20functions).\n",
    "   \n",
    "We can see a huge improvement in runtime when using NumPy over barbones Python. This is because NumPy functions (aka `ufuncs`) are implemented in other compiled languages like C or Fortran and made available to be used in Python. Whenever possible it is recommended to use NumPy's inbuilt data structures and functions. These implementations are also called **vectorized** functions. Vectorization is a theme we will visit many times in this tutorial.    \n",
    "\n",
    "\n",
    "**NOTE:** Though they might look very similar Python `lists` are completely different objects than Numpy arrays. `list` is a native Python data type while NumPy arrays are not. Attributes and methods of lists like `.append()` do not work on NumPy arrays and vice versa. Moreover the elements of a list can each be of a different data type, for example\n",
    "```python\n",
    "example_list = [2.0, 1, \"A sentence\"]\n",
    "```\n",
    "is a list which has a `float`, an `int` and a `str` as its element. This is not possible in a NumPy array. All the elements need to be of the same datatype.\n",
    "  \n",
    "## Plotting $\\sin(x)$"
   ]
  },
  {
   "cell_type": "markdown",
   "metadata": {},
   "source": [
    "Let's try this out by plotting $\\sin(x)$ between $0$ and $2\\pi$. The first step is to define a NumPy array for x. (*Hint: Google how to define $\\pi$ using NumPy.*)"
   ]
  },
  {
   "cell_type": "code",
   "execution_count": null,
   "metadata": {
    "ExecuteTime": {
     "end_time": "2023-05-20T03:26:26.760445Z",
     "start_time": "2023-05-20T03:26:26.756844Z"
    }
   },
   "outputs": [],
   "source": [
    "## INSERT CODE HERE ##"
   ]
  },
  {
   "cell_type": "markdown",
   "metadata": {},
   "source": [
    "Next, we define the array for $\\sin(x)$."
   ]
  },
  {
   "cell_type": "code",
   "execution_count": null,
   "metadata": {
    "ExecuteTime": {
     "end_time": "2023-05-20T03:26:26.772128Z",
     "start_time": "2023-05-20T03:26:26.763899Z"
    }
   },
   "outputs": [],
   "source": [
    "## INSERT CODE HERE ##"
   ]
  },
  {
   "cell_type": "markdown",
   "metadata": {},
   "source": [
    "Finally, use the matplotlib skills you learned yesterday to plot! "
   ]
  },
  {
   "cell_type": "code",
   "execution_count": null,
   "metadata": {
    "ExecuteTime": {
     "end_time": "2023-05-20T03:26:39.055993Z",
     "start_time": "2023-05-20T03:26:38.790781Z"
    }
   },
   "outputs": [],
   "source": [
    "import matplotlib.pyplot as plt\n",
    "## INSERT CODE HERE ##"
   ]
  },
  {
   "cell_type": "markdown",
   "metadata": {},
   "source": [
    "# Plotting the galaxy luminosity function"
   ]
  },
  {
   "cell_type": "markdown",
   "metadata": {},
   "source": [
    "The number density of galaxies having a given luminosity $(\\Phi(L))$ is found to follow the functional form\n",
    "$$ \\Phi(L)=\\left( \\dfrac{\\Phi^*}{L^*} \\right) \\left( \\dfrac{L}{L^*} \\right)^{\\alpha}10^{\\left(-\\dfrac{L}{L^*}\\right)}$$\n",
    "\n",
    "Assuming the normalization constant $\\left( \\dfrac{\\Phi^*}{L^*} \\right)$ to be unity and $\\alpha = -1.5, -1.0 \\text{ and} -0.5$,  plot $\\log(\\Phi(L))$ versus $\\dfrac{L}{L^*}$. Follow these steps:"
   ]
  },
  {
   "cell_type": "markdown",
   "metadata": {},
   "source": [
    "Take a look at the documentation for `np.logspace`. Generate the $x$ axis (i.e.$\\dfrac{L}{L^*}$ ) as a logarithmically spaced grid of 50 data points between $10^{-2}$ and $10$."
   ]
  },
  {
   "cell_type": "code",
   "execution_count": null,
   "metadata": {
    "ExecuteTime": {
     "end_time": "2023-05-20T03:26:41.450297Z",
     "start_time": "2023-05-20T03:26:41.447198Z"
    }
   },
   "outputs": [],
   "source": [
    "## INSERT CODE HERE ##"
   ]
  },
  {
   "cell_type": "markdown",
   "metadata": {},
   "source": [
    "Use NumPy functions and binary operations on the above array to generate the y axis (i.e. $\\log(\\Phi(L))$). The function to take the logarithm with a base 10 in numpy is `np.log10` whereas the function to take the natural logarithm is `np.log`.   \n",
    "\n",
    "Since we are doing the same operation thrice for different input parameters, it is really helpful to define a function. "
   ]
  },
  {
   "cell_type": "code",
   "execution_count": null,
   "metadata": {
    "ExecuteTime": {
     "end_time": "2023-05-20T03:26:42.674227Z",
     "start_time": "2023-05-20T03:26:42.671031Z"
    }
   },
   "outputs": [],
   "source": [
    "def get_log_phi(lum, alpha):\n",
    "    \"\"\"\n",
    "    Function to calculate the log of luminosity function\n",
    "    \n",
    "    Arguments:\n",
    "    l (array): Values of L/L^star\n",
    "    alpha (float): Faint end slope parameter\n",
    "    \n",
    "    Returns:\n",
    "    array: The log of the luminosity function\n",
    "    \"\"\"\n",
    "    \n",
    "    # COMPLETE THESE THREE LINES OF CODE\n",
    "    phi = \n",
    "    log_phi = \n",
    "\n",
    "    return log_phi"
   ]
  },
  {
   "cell_type": "markdown",
   "metadata": {},
   "source": [
    "**NOTE:** The chunk of commented text following the function definition is called a docstring. It is a good practice to always add a doctring whenever you define a function and intend to reuse it.\n",
    "\n",
    "The following is an example of a very basic docstring. \n",
    "\n",
    "```python\n",
    "def a_generic_function(input1, input2):\n",
    "    \"\"\"\n",
    "    This is what the funtion does\n",
    "    \n",
    "    Arguments:\n",
    "    input1 (data_type): Meaning of the input\n",
    "    \n",
    "    \n",
    "    Returns\n",
    "    data_type: Meaning of the return value\n",
    "    \n",
    "    \"\"\"\n",
    "    \n",
    "    return something\n",
    "```\n",
    "\n",
    "There are multiple formatting schemes for doctsrings. The one followed by the Scientific Python community can be found [here](https://docs.scipy.org/doc/numpy/docs/howto_document.html).  \n",
    "\n",
    "This docstring can be accessed using the usual methods of accessing the documentation for any function imported from a library. Access the docstring for the function we defined in the previous cell:"
   ]
  },
  {
   "cell_type": "code",
   "execution_count": null,
   "metadata": {
    "ExecuteTime": {
     "end_time": "2023-05-20T03:26:45.561057Z",
     "start_time": "2023-05-20T03:26:45.501651Z"
    }
   },
   "outputs": [],
   "source": [
    "# COMPLETE THIS LINE OF CODE\n",
    "get_log_phi"
   ]
  },
  {
   "cell_type": "code",
   "execution_count": null,
   "metadata": {
    "ExecuteTime": {
     "end_time": "2023-05-20T03:26:47.373134Z",
     "start_time": "2023-05-20T03:26:46.973217Z"
    }
   },
   "outputs": [],
   "source": [
    "import matplotlib.pyplot as plt\n",
    "fig, ax = plt.subplots(figsize=(10,6))\n",
    "\n",
    "\n",
    "# COMPLETE THESE THREE LINES OF CODE\n",
    "\n",
    "ax.plot(, , label=r\"$\\alpha=-1.5$\")  # for alpha = -1.5\n",
    "ax.plot(, , label=r\"$\\alpha=-1.0$\")  # for alpha = -1.0\n",
    "ax.plot(, , label=r\"$\\alpha=-0.5$\")  # for alpha = -0.5\n",
    "\n",
    "ax.set_xlabel(r\"$\\dfrac{L}{L^{\\star}}$\", fontsize=20)  # Print the x label in latex\n",
    "ax.set_ylabel(r\"$\\log(\\Phi(L))$\", fontsize=20)  # Print the x label in latex\n",
    "ax.set_xscale(\"log\")  # Set the spacing in the x axis logarithmically\n",
    "ax.legend()"
   ]
  }
 ],
 "metadata": {
  "kernelspec": {
   "display_name": "Python 3 (ipykernel)",
   "language": "python",
   "name": "python3"
  },
  "language_info": {
   "codemirror_mode": {
    "name": "ipython",
    "version": 3
   },
   "file_extension": ".py",
   "mimetype": "text/x-python",
   "name": "python",
   "nbconvert_exporter": "python",
   "pygments_lexer": "ipython3",
   "version": "3.11.3"
  },
  "toc": {
   "base_numbering": 1,
   "nav_menu": {},
   "number_sections": true,
   "sideBar": true,
   "skip_h1_title": false,
   "title_cell": "Table of Contents",
   "title_sidebar": "Contents",
   "toc_cell": false,
   "toc_position": {},
   "toc_section_display": true,
   "toc_window_display": false
  }
 },
 "nbformat": 4,
 "nbformat_minor": 4
}
