{
 "cells": [
  {
   "cell_type": "code",
   "execution_count": null,
   "metadata": {},
   "outputs": [],
   "source": [
    "from pathlib import Path\n",
    "\n",
    "import numpy as np\n",
    "import matplotlib.pyplot as plt"
   ]
  },
  {
   "cell_type": "markdown",
   "metadata": {},
   "source": [
    "# Multi Dimensional Arrays\n",
    "**_Part I_**"
   ]
  },
  {
   "cell_type": "markdown",
   "metadata": {},
   "source": [
    "As mentioned previously, NumPy can be used to represent arrays of any size and dimension. Though all the examples above have used one-dimensional arrays, all of them will work when we have more than one dimension. For example, a list of lists can be used to initialize a two dimensional array just like a list was used to initialize a one dimensional array. All the array attributes also work similarly."
   ]
  },
  {
   "cell_type": "code",
   "execution_count": null,
   "metadata": {},
   "outputs": [],
   "source": [
    "arr_2d_1 = np.array([[1, 2, 3], [4, 5, 6]])"
   ]
  },
  {
   "cell_type": "code",
   "execution_count": null,
   "metadata": {},
   "outputs": [],
   "source": [
    "print(arr_2d_1)"
   ]
  },
  {
   "cell_type": "code",
   "execution_count": null,
   "metadata": {},
   "outputs": [],
   "source": [
    "arr_2d_1.shape"
   ]
  },
  {
   "cell_type": "code",
   "execution_count": null,
   "metadata": {},
   "outputs": [],
   "source": [
    "arr_2d_1.ndim"
   ]
  },
  {
   "cell_type": "markdown",
   "metadata": {},
   "source": [
    "`arr_2d_1` has a dimension of 2 i.e. it has two axes (`0` and `1`, since everything in Python is counted from 0). The **0th axis has 2** elements while the **1st axis has 3** elements."
   ]
  },
  {
   "cell_type": "markdown",
   "metadata": {},
   "source": [
    "Most of the functions to generate arrays listed above can be used with more than one dimension, for example"
   ]
  },
  {
   "cell_type": "code",
   "execution_count": null,
   "metadata": {},
   "outputs": [],
   "source": [
    "np.zeros((2, 3))"
   ]
  },
  {
   "cell_type": "code",
   "execution_count": null,
   "metadata": {},
   "outputs": [],
   "source": [
    "np.zeros((2,3), dtype=int)"
   ]
  },
  {
   "cell_type": "code",
   "execution_count": null,
   "metadata": {},
   "outputs": [],
   "source": [
    "np.zeros((2,3), dtype=bool)"
   ]
  },
  {
   "cell_type": "markdown",
   "metadata": {},
   "source": [
    "Similarly all element wise operations happen similarly on multi-dimensional arrays including binary operations between two arrays."
   ]
  },
  {
   "cell_type": "code",
   "execution_count": null,
   "metadata": {},
   "outputs": [],
   "source": [
    "print(arr_2d_1)"
   ]
  },
  {
   "cell_type": "code",
   "execution_count": null,
   "metadata": {},
   "outputs": [],
   "source": [
    "2 * arr_2d_1"
   ]
  },
  {
   "cell_type": "code",
   "execution_count": null,
   "metadata": {},
   "outputs": [],
   "source": [
    "arr_2d_2 = np.array([[7, 8, 9], [10, 11, 12]])"
   ]
  },
  {
   "cell_type": "code",
   "execution_count": null,
   "metadata": {},
   "outputs": [],
   "source": [
    "print(arr_2d_2)"
   ]
  },
  {
   "cell_type": "code",
   "execution_count": null,
   "metadata": {},
   "outputs": [],
   "source": [
    "arr_2d_1 + arr_2d_2"
   ]
  },
  {
   "cell_type": "markdown",
   "metadata": {},
   "source": [
    "### Indexing and slicing in multi-dimensional arrays"
   ]
  },
  {
   "cell_type": "markdown",
   "metadata": {},
   "source": [
    "Indexing and slicing for multidimensional arrays work in exactly the same way as in 1D arrays except the indices/slices for each axes are separeted by a `,`. So, if I want to select the element with index 1 along axis 0 and index 2 along axis 1 of the array `arr_2d_1`"
   ]
  },
  {
   "cell_type": "code",
   "execution_count": null,
   "metadata": {},
   "outputs": [],
   "source": [
    "print(arr_2d_1)"
   ]
  },
  {
   "cell_type": "code",
   "execution_count": null,
   "metadata": {},
   "outputs": [],
   "source": [
    "arr_2d_1[1, 2]"
   ]
  },
  {
   "cell_type": "code",
   "execution_count": null,
   "metadata": {},
   "outputs": [],
   "source": [
    "arr_2d_1[:,:]"
   ]
  },
  {
   "cell_type": "markdown",
   "metadata": {},
   "source": [
    "We can select all the elements along axis 0 and for the index 2 along axis 1 by"
   ]
  },
  {
   "cell_type": "code",
   "execution_count": null,
   "metadata": {},
   "outputs": [],
   "source": [
    "arr_2d_1[:,2]"
   ]
  },
  {
   "cell_type": "markdown",
   "metadata": {},
   "source": [
    "Similarly all other slicing operations can be performed on multi-dimensional arrays. We can select all the elements along the 0th axis corresponding to the first index by"
   ]
  },
  {
   "cell_type": "code",
   "execution_count": null,
   "metadata": {},
   "outputs": [],
   "source": [
    "arr_2d_1[1]"
   ]
  },
  {
   "cell_type": "markdown",
   "metadata": {},
   "source": [
    "**NOTE:** The above is equivalent to `arr_2d_1[1,:]`. Python reads script from left to right, if we stop putting indices to the right, it is assumed that all elements are selected."
   ]
  },
  {
   "cell_type": "markdown",
   "metadata": {},
   "source": [
    "A small illustrated summary of numpy indexing and slicing from [scipylectures.org](https://scipy-lectures.org/intro/numpy/array_object.html): "
   ]
  },
  {
   "cell_type": "markdown",
   "metadata": {},
   "source": [
    "<img src=\"data/img/np_indexing.png\" height=200px width=600px>"
   ]
  },
  {
   "cell_type": "markdown",
   "metadata": {},
   "source": [
    "### Reading and writing simple arrays"
   ]
  },
  {
   "cell_type": "markdown",
   "metadata": {},
   "source": [
    "The most efficient way to save array like objects as binary files is the `.npy` file format. To save an array we do `np.save(\"file_name\", array)`. So to save `arr_2d_1`:"
   ]
  },
  {
   "cell_type": "code",
   "execution_count": null,
   "metadata": {},
   "outputs": [],
   "source": [
    "np.save(\"array_1.npy\", arr_2d_1)"
   ]
  },
  {
   "cell_type": "markdown",
   "metadata": {},
   "source": [
    "To read `.npy` files we do `np.load(\"file_path\")`"
   ]
  },
  {
   "cell_type": "code",
   "execution_count": null,
   "metadata": {},
   "outputs": [],
   "source": [
    "loaded_array = np.load(\"array_1.npy\")\n",
    "print(loaded_array)"
   ]
  },
  {
   "cell_type": "markdown",
   "metadata": {},
   "source": [
    "**NOTE:** `.npy` files are by far the best way to save data of a reasonable size. As data size becomes larger and organization more complex, it is preferable to store data in formats like HDF5. Astronomers have a certain affection towards `.fits` files. We will deal with them in a subsequent tutorial.     \n",
    "NumPy can also read text files using `np.loadtxt`. Text files are generally used to store catalogs and tabular data. Better methods than NumPy exist to read and work with such data types. They will be discussed in a subsequent tutorial."
   ]
  },
  {
   "cell_type": "markdown",
   "metadata": {},
   "source": [
    "## Pretty pictures of galaxies"
   ]
  },
  {
   "cell_type": "markdown",
   "metadata": {},
   "source": [
    "We will now look at images of galaxies taken by the [Sloan Digital Sky Survey (SDSS)](https://www.sdss.org/). A monochromatic image is basically a 2D array where the brightness of each pixel corresponds to the value of the array element. The supplied data file has images of 15 different galaxies each 64 $\\times$ 64 pixels in size. The images were taken in 5 bands of wavelengths (viz. $u$, $g$, $r$, $i$, $z$) ranging from near ultra-violet to mid infrared. We first open the image, read it into an array and check its shape."
   ]
  },
  {
   "cell_type": "code",
   "execution_count": null,
   "metadata": {},
   "outputs": [],
   "source": [
    "data_path = Path(\"./data/sdss.npy\")\n",
    "imgs = np.load(data_path) "
   ]
  },
  {
   "cell_type": "markdown",
   "metadata": {},
   "source": [
    "lets find the shape of the array"
   ]
  },
  {
   "cell_type": "code",
   "execution_count": null,
   "metadata": {},
   "outputs": [],
   "source": [
    "imgs # COMPLETE THIS LINE OF CODE"
   ]
  },
  {
   "cell_type": "markdown",
   "metadata": {},
   "source": [
    "Looking at the shape try to figure out what each axes of this array corresponds to. We will select some of the galaxies from this set and plot their images. First lets select the second galaxy in the given array (Recall that indexing starts from `0`)"
   ]
  },
  {
   "cell_type": "code",
   "execution_count": null,
   "metadata": {},
   "outputs": [],
   "source": [
    "img_1 = # COMPLETE THIS LINE OF CODE\n",
    "\n",
    "# check the shape of img_1\n",
    "img_1"
   ]
  },
  {
   "cell_type": "markdown",
   "metadata": {},
   "source": [
    "We will now plot the image of the selected galaxy by looping over the wavelength bands. Since the pixels span a huge dynamic range we will scale the pixels by performing the element wise hyperbolic tangent peration (`np.tanh()`)"
   ]
  },
  {
   "cell_type": "code",
   "execution_count": null,
   "metadata": {},
   "outputs": [],
   "source": [
    "# plot the function np.tanh() from -10 to 10\n",
    "x_plot = # generate 100 points from -10 to 10 (one way is to use np.linspace())\n",
    "fig, ax = plt.subplots()\n",
    "ax. # plot the function\n",
    "ax.grid()"
   ]
  },
  {
   "cell_type": "code",
   "execution_count": null,
   "metadata": {},
   "outputs": [],
   "source": [
    "n_bands = # identify the number of bands from the imgs array\n",
    "fig, axes = # create a figure with the number of subplots equal to n_bands (I recomment having 1 row and n_bands columns so you can see all the figures)\n",
    "for i in range(): # loop over the number of bands\n",
    "    scaled_image = # scale the image with np.tanh()\n",
    "    img_show = # use imshow to plot the image. Note that axes is a 1D array, so you can access the i-th axis with axes[i]\n",
    "    fig.colorbar(img_show, ax=axes[i]) # add a colorbar to each image  \n",
    "\n"
   ]
  },
  {
   "cell_type": "markdown",
   "metadata": {},
   "source": [
    "Feel free to select other galaxies and plot their images.  \n",
    "As you can see the galaxy mostly occupies the central region of the picture. So we will crop the images to select only the central 32$\\times$32 array elements for each wavelength band and plot them."
   ]
  },
  {
   "cell_type": "code",
   "execution_count": null,
   "metadata": {},
   "outputs": [],
   "source": [
    "# Redo the above, but only plot the central 32x32 pixels of each image"
   ]
  },
  {
   "cell_type": "markdown",
   "metadata": {},
   "source": [
    "### Reductions: Numerical operations which return a smaller array"
   ]
  },
  {
   "cell_type": "markdown",
   "metadata": {},
   "source": [
    "Some numpy functions can take an array as input and return a smaller array as output. An example of such a function would be `np.sum`. If applied on an array, it returns the sum of all elements in the array."
   ]
  },
  {
   "cell_type": "code",
   "execution_count": null,
   "metadata": {},
   "outputs": [],
   "source": [
    "print(arr_2d_1)"
   ]
  },
  {
   "cell_type": "code",
   "execution_count": null,
   "metadata": {},
   "outputs": [],
   "source": [
    "np.sum(arr_2d_1)"
   ]
  },
  {
   "cell_type": "markdown",
   "metadata": {},
   "source": [
    "Such numpy functions also have an argument called `axis`. Alternatively we can specify the axis along which the function will operate. The resulting array will have a dimension less than the original array. The `axis` mentioned in the argument will be the one which is reduced."
   ]
  },
  {
   "cell_type": "code",
   "execution_count": null,
   "metadata": {},
   "outputs": [],
   "source": [
    "print(arr_2d_1)"
   ]
  },
  {
   "cell_type": "code",
   "execution_count": null,
   "metadata": {},
   "outputs": [],
   "source": [
    "np.sum(arr_2d_1, axis=0)"
   ]
  },
  {
   "cell_type": "code",
   "execution_count": null,
   "metadata": {},
   "outputs": [],
   "source": [
    "np.sum(arr_2d_1, axis=1)"
   ]
  },
  {
   "cell_type": "markdown",
   "metadata": {},
   "source": [
    "An illustrative representation of `np.sum` across various axes from [scipylectures.org](https://scipy-lectures.org/intro/numpy/operations.html#basic-reductions)"
   ]
  },
  {
   "cell_type": "markdown",
   "metadata": {},
   "source": [
    "<img src=\"data/img/reductions.png\" height=200px width=200px>"
   ]
  },
  {
   "cell_type": "markdown",
   "metadata": {},
   "source": [
    "Most common statistical functions are implemented in NumPy and can be used in a similar way. We will use the function `np.mean()` to calculate the average values of the image pixels across all the wavelength ranges and plot the average image for all the given galaxies in a similar way as before."
   ]
  },
  {
   "cell_type": "code",
   "execution_count": null,
   "metadata": {},
   "outputs": [],
   "source": [
    "np.mean?"
   ]
  },
  {
   "cell_type": "code",
   "execution_count": null,
   "metadata": {},
   "outputs": [],
   "source": [
    "# calculate the average image of the 1st galaxy over all the bands. Check that the resulting image has the shape you expect it to."
   ]
  },
  {
   "cell_type": "code",
   "execution_count": null,
   "metadata": {},
   "outputs": [],
   "source": [
    "n_images = # calculate the number of images from the imgs array\n",
    "for i in range(): # loop over all the images\n",
    "    fig, ax = plt.subplots()\n",
    "    img_i = # obtain all the images of the i-th galaxy\n",
    "    mean_image = # calculate the average image over all bands\n",
    "    scaled_image = # scale the average image\n",
    "    img_show = # plot the image\n",
    "    fig.colorbar(img_show, ax=ax) # add a colorbar to the image"
   ]
  },
  {
   "cell_type": "markdown",
   "metadata": {},
   "source": [
    "The tanh() function strongly compresses dynamic range. Instead, it might be useful to standardize all the images to have mean zero and a standard deviation of order unity. In general, the data you work with might have infinite values or NaNs, in which case np.mean or np.std will not work. A robust alternative is to use np.quantile(data,q), which will return the q'th quantile of the data. q=0.5 will return the median (50th percentile, i.e. 50% of the data is under the median and 50% is over the median), and q=0.8 will return the 80th percentile."
   ]
  },
  {
   "cell_type": "code",
   "execution_count": null,
   "metadata": {},
   "outputs": [],
   "source": [
    "np.quantile?"
   ]
  },
  {
   "cell_type": "code",
   "execution_count": null,
   "metadata": {},
   "outputs": [],
   "source": [
    "# Calculate the median image (over all bands) of the 1st galaxy"
   ]
  },
  {
   "cell_type": "code",
   "execution_count": null,
   "metadata": {},
   "outputs": [],
   "source": [
    "quantiles = # calculate the 5%, 50%, and 95% percentiles over all galaxies and pixels using np.quantile(). \n",
    "                          # you should use the axis argument to calculate the percentiles over all galaxies and pixels.\n",
    "\n",
    "# you should check to see if there are n_bands quantile values for each quantile\n",
    "quantiles"
   ]
  },
  {
   "cell_type": "code",
   "execution_count": null,
   "metadata": {},
   "outputs": [],
   "source": [
    "# check the values of the 5% and 95% percentiles of band g\n"
   ]
  },
  {
   "cell_type": "code",
   "execution_count": null,
   "metadata": {},
   "outputs": [],
   "source": [
    "for i in range(): # loop over all the galaxies\n",
    "    fig, axes = plt.subplots() # create a figure with n_bands subplots\n",
    "    for j in range(): # loop over all the bands\n",
    "        standardized_image = # for each image, subtract the median and divide by the (95% percentile - 50% percentile) \n",
    "        img_show = # use imshow() to plot\n",
    "        #ax[j].axis('off')\n",
    "        fig.colorbar(img_show, ax=axes[j]) # optional colorbar"
   ]
  },
  {
   "cell_type": "markdown",
   "metadata": {},
   "source": [
    "--------"
   ]
  },
  {
   "cell_type": "markdown",
   "metadata": {},
   "source": [
    "## Integral field spectroscopy: 3D cubes\n",
    "**_Part II_**"
   ]
  },
  {
   "cell_type": "markdown",
   "metadata": {},
   "source": [
    "As a further example of multidimensional numpy arrays, we'll be looking at 3D cubes of spatially resolved spectroscopy: \n",
    "For each spatial pixel (x,y) on the sky, there is a 1D spectrum.\n",
    "\n",
    "**<span style=\"color:red\">For this section, lines that need to be completed as part of the exercise are marked with a comment at the end of the line:</span>**\n",
    "\n",
    "```python\n",
    "[......]   # COMPLETE THIS LINE OF CODE\n",
    "```\n",
    "\n",
    "Let's look at an example galaxy taken from [MANGA](https://www.sdss4.org/dr17/manga/). The following FITS cube is a pared down version of the full cube available from MARVIN (see the entry for [9867-6104](https://dr17.sdss.org/marvin/galaxy/9867-6104/))."
   ]
  },
  {
   "cell_type": "code",
   "execution_count": null,
   "metadata": {},
   "outputs": [],
   "source": [
    "from astropy.io import fits"
   ]
  },
  {
   "cell_type": "code",
   "execution_count": null,
   "metadata": {},
   "outputs": [],
   "source": [
    "# Load the cube & wavelength array\n",
    "ifu_path = Path(\"./data/manga_cube.fits\")\n",
    "hdu = fits.open(ifu_path)\n",
    "\n",
    "# z = 0.0302   # Galaxy redshift\n",
    "wave = hdu['WAVE'].data       # Array containing spectrum wavelength, in Angstroms\n",
    "flux_cube = hdu['FLUX'].data  # Array containing the 3D flux cube\n",
    "\n",
    "hdu.close()"
   ]
  },
  {
   "cell_type": "markdown",
   "metadata": {},
   "source": [
    "Let's find the shape of the cube:"
   ]
  },
  {
   "cell_type": "code",
   "execution_count": null,
   "metadata": {},
   "outputs": [],
   "source": [
    "# Note: the axes are ordered [wavelength, y, x]\n",
    "flux_cube.      # COMPLETE THIS LINE OF CODE"
   ]
  },
  {
   "cell_type": "markdown",
   "metadata": {},
   "source": [
    "To visualize the cube, let's first sum over the spectral/wavelength direction to see the spatial (x,y) distribution:"
   ]
  },
  {
   "cell_type": "code",
   "execution_count": null,
   "metadata": {},
   "outputs": [],
   "source": [
    "flux_map =    # COMPLETE THIS LINE OF CODE\n",
    "fig, ax = plt.subplots()\n",
    "ax.imshow(flux_map, origin=\"lower\")"
   ]
  },
  {
   "cell_type": "markdown",
   "metadata": {},
   "source": [
    "Now let's examine the 1D spectrum of that pixel (called a \"spaxel\"):"
   ]
  },
  {
   "cell_type": "code",
   "execution_count": null,
   "metadata": {},
   "outputs": [],
   "source": [
    "xyc = [27, 27]   # Center pixel coordinate\n",
    "\n",
    "# Reminder: axes order [wavelength, y, x]\n",
    "spec1d = flux_cube[]  # COMPLETE THIS LINE OF CODE\n",
    "fig, ax = plt.subplots()\n",
    "ax.plot(wave, spec1d) \n",
    "ax.set_title('spaxel: {}'.format(xyc))"
   ]
  },
  {
   "cell_type": "markdown",
   "metadata": {},
   "source": [
    "Let's now plot only a limited wavelength range of this 1D spectrum, zooming in on the H$\\alpha$ and [NII] lines:"
   ]
  },
  {
   "cell_type": "code",
   "execution_count": null,
   "metadata": {},
   "outputs": [],
   "source": [
    "# Limit spectral range to around Halpha + NII\n",
    "wavelim_indices = [2685, 2745]\n",
    "\n",
    "# Reminder: axes order [wavelength, y, x]\n",
    "fig, ax = plt.subplots()\n",
    "ax.plot(wave[], spec1d[])  # COMPLETE THIS LINE OF CODE\n",
    "ax.set_title('spaxel: {}'.format(xyc))"
   ]
  },
  {
   "cell_type": "markdown",
   "metadata": {},
   "source": [
    "### Slicing and summing the cube to examine emission line features\n",
    "\n",
    "Now let's define a more restricted range encompassing just H$\\alpha$, and also just the red and blue sides of H$\\alpha$. \n",
    "\n",
    "Using these ranges, slice the 3D cube to within these wavelength ranges and then sum over that wavelength range to get the spatial distribution of the H$\\alpha$ emission, as well as the blueshifted and redshifted sides of the line."
   ]
  },
  {
   "cell_type": "code",
   "execution_count": null,
   "metadata": {},
   "outputs": [],
   "source": [
    "# Limit spectral range to around Halpha\n",
    "ha_inds = [2711, 2715]\n",
    "ha_blue_inds = [2711, 2713] \n",
    "ha_red_inds = [2713,2715] \n",
    "\n",
    "# Reminder: axes order [wavelength, y, x]\n",
    "flux_map_ha = np.sum(flux_cube[], axis=) # COMPLETE THIS LINE OF CODE\n",
    "flux_map_ha_blue = np.sum(flux_cube[], axis=) # COMPLETE THIS LINE OF CODE\n",
    "flux_map_ha_red = np.sum(flux_cube[], axis=) # COMPLETE THIS LINE OF CODE"
   ]
  },
  {
   "cell_type": "code",
   "execution_count": null,
   "metadata": {},
   "outputs": [],
   "source": [
    "# Plot the Halpha full line, blueshifted, and redshifted maps,\n",
    "# and the whole cube collapsed for reference\n",
    "\n",
    "f, axes = plt.subplots(nrows=1, ncols=4)\n",
    "\n",
    "axes[0].imshow(flux_map_ha, origin=\"lower\")\n",
    "axes[0].set_title(r'H$\\alpha$, full line')\n",
    "axes[1].imshow(flux_map_ha_blue, origin=\"lower\")\n",
    "axes[1].set_title(r'H$\\alpha$, blueshifted')\n",
    "axes[2].imshow(flux_map_ha_red, origin=\"lower\")\n",
    "axes[2].set_title(r'H$\\alpha$, redshifted')\n",
    "\n",
    "# Also collapse the flux_cube over the whole wavelength array:\n",
    "# Reminder: axes order [wavelength, y, x]\n",
    "axes[3].imshow(, origin=\"lower\") # COMPLETE THIS LINE OF CODE\n",
    "axes[3].set_title(r'Whole cube')"
   ]
  },
  {
   "cell_type": "markdown",
   "metadata": {},
   "source": [
    "### Extracting a pseudoslit spectrum\n",
    "\n",
    "We can also slice and sum the IFU cube to see what a 2D spectrum would look like, if we had observed this galaxy with a slit so there was only spatial information in the y direction and spectral information in the wavelength direction.\n",
    "\n",
    "We will define a \"pseudoslit\" that is 10 pixels wide, centered at the middle of the x direction of the cube.\n",
    "\n",
    "<img src=\"data/img/ifu_pseudoslit.png\" height=100px width=500px>"
   ]
  },
  {
   "cell_type": "code",
   "execution_count": null,
   "metadata": {},
   "outputs": [],
   "source": [
    "npix = 10\n",
    "slice_l = 22\n",
    "\n",
    "# Crop the cube to include only the x pixels within this pseudoslit:\n",
    "# Reminder: axes order [wavelength, y, x]\n",
    "cube_crop = flux_cube[]   # COMPLETE THIS LINE OF CODE\n",
    "\n",
    "print(\"Cropped cube shape:\", cube_crop.shape)"
   ]
  },
  {
   "cell_type": "markdown",
   "metadata": {},
   "source": [
    "Now sum over the x direction, as slit spectroscopy effectively combines all the spatial information within one \"row\" of pixels in a slit."
   ]
  },
  {
   "cell_type": "code",
   "execution_count": null,
   "metadata": {},
   "outputs": [],
   "source": [
    "# Reminder: axes order [wavelength, y, x]\n",
    "flux_pseudoslit =   # COMPLETE THIS LINE OF CODE"
   ]
  },
  {
   "cell_type": "code",
   "execution_count": null,
   "metadata": {},
   "outputs": [],
   "source": [
    "# For plotting the 2D spectra, we'd like to have the \n",
    "# wavelength in the x direction as columns, so we will transpose this 2D array:\n",
    "\n",
    "# Shape before the transformation:\n",
    "print(\"Before shape:\", flux_pseudoslit.shape)\n",
    "\n",
    "# Shape after the transformation:\n",
    "print(\"After shape:\", flux_pseudoslit.T.shape)"
   ]
  },
  {
   "cell_type": "markdown",
   "metadata": {},
   "source": [
    "Now let's plot our 2D pseudoslit spectrum:"
   ]
  },
  {
   "cell_type": "code",
   "execution_count": null,
   "metadata": {},
   "outputs": [],
   "source": [
    "fig, ax = plt.subplots()\n",
    "ax.imshow(flux_pseudoslit.T, origin=\"lower\")"
   ]
  },
  {
   "cell_type": "code",
   "execution_count": null,
   "metadata": {},
   "outputs": [],
   "source": [
    "# Alternative that automatically decides the aspect ratio:\n",
    "ax.imshow(flux_pseudoslit.T, origin=\"lower\",aspect='auto')"
   ]
  },
  {
   "cell_type": "markdown",
   "metadata": {},
   "source": [
    "Unsurprisingly, it's hard to see features with the full wavelength range. Let's slice the 2D spectrum array to just highlight H$\\alpha$ and [NII] again."
   ]
  },
  {
   "cell_type": "code",
   "execution_count": null,
   "metadata": {},
   "outputs": [],
   "source": [
    "# Limit spectral range to around Halpha + NII\n",
    "wavelim_indices = [2685, 2745]\n",
    "\n",
    "# Now that we've transposed the array, the axes order is [y, wavelength]\n",
    "fig, ax = plt.subplots()\n",
    "ax.imshow(flux_pseudoslit.T[], origin='lower')  # COMPLETE THIS LINE OF CODE\n",
    "ax.set_xlabel('Spectral (wavelength, pixels)')\n",
    "ax.set_ylabel('y')"
   ]
  },
  {
   "cell_type": "markdown",
   "metadata": {},
   "source": [
    "Here we can see, from left to right, the [NII]6548$\\unicode{x212B}$, H$\\alpha$6564$\\unicode{x212B}$, and [NII]6584$\\unicode{x212B}$ emission lines, on top of continuum emission from the central region of the galaxy. \n",
    "\n",
    "The emission lines exhibit \"curves\" showing the velocity signature across the galaxy. \n",
    "\n",
    "The upper part of the galaxy (upper part of the y axis here) has blueshifted emission, while the lower part has redshifted emission. \n",
    "\n",
    "This agrees with what we saw when we plotted fluxmaps created from summed slices of the blue- and redshifted sides of H$\\alpha$!\n",
    "\n",
    "--------\n"
   ]
  },
  {
   "cell_type": "markdown",
   "metadata": {},
   "source": [
    "### Transposing multi-D arrays\n",
    "Above we used a shorthand available to `numpy` `ndarrays` (`flux_pseudoslit.T`, or alternatively `flux_pseudoslit.transpose()`) to transpose the 2D pseudoslit array. \n",
    "As this is a 2D array, it exchanged the order of the 2 axes by default, without passing an axes permuation order. \n",
    "However, for higher dimension arrays, `np.transpose()` takes a keyword argument `axes` which is a list or tuple of the order in which to permute the array's axes.\n",
    "For reference:\""
   ]
  },
  {
   "cell_type": "code",
   "execution_count": null,
   "metadata": {},
   "outputs": [],
   "source": [
    "np.transpose?"
   ]
  },
  {
   "cell_type": "markdown",
   "metadata": {},
   "source": [
    "Let's look at using `np.transpose()` to permute the axes of our cropped 3D IFU cube:"
   ]
  },
  {
   "cell_type": "code",
   "execution_count": null,
   "metadata": {},
   "outputs": [],
   "source": [
    "# Cropped cube shape:\n",
    "cube_crop.shape\n",
    "\n",
    "# Reminder: axes order [wavelength, y, x]"
   ]
  },
  {
   "cell_type": "markdown",
   "metadata": {},
   "source": [
    "Now let's permute the axes so the spectral/wavelength dimension is last, without modifying the order of the y and x axes:\n"
   ]
  },
  {
   "cell_type": "code",
   "execution_count": null,
   "metadata": {},
   "outputs": [],
   "source": [
    "cube_crop_transp = np.transpose(cube_crop, axes=[]) # COMPLETE THIS LINE OF CODE"
   ]
  },
  {
   "cell_type": "code",
   "execution_count": null,
   "metadata": {},
   "outputs": [],
   "source": [
    "cube_crop_transp.shape"
   ]
  },
  {
   "cell_type": "markdown",
   "metadata": {},
   "source": [
    "To convince ourselves we've done the transposition as expected, let's collapse both the original cube and this transposed cube over their respecive wavelength arrays across just the the Halpha line indices (as the data asymmetry makes it easier to see transposition results!):\n"
   ]
  },
  {
   "cell_type": "code",
   "execution_count": null,
   "metadata": {},
   "outputs": [],
   "source": [
    "ha_inds = [2711, 2715]\n",
    "\n",
    "f, axes = plt.subplots(1, 2)\n",
    "\n",
    "# Reminder: axes order [wavelength, y, x]\n",
    "axes[0].imshow(np.sum(cube_crop[],axis=), origin='lower') # COMPLETE THIS LINE OF CODE\n",
    "axes[0].set_title('Cube, orig')\n",
    "\n",
    "# TRANSPOSED axes order [y, x, wavelength]\n",
    "axes[1].imshow(np.sum(cube_crop_transp[],axis=), origin='lower') # COMPLETE THIS LINE OF CODE\n",
    "axes[1].set_title('Cube, transp')"
   ]
  },
  {
   "cell_type": "markdown",
   "metadata": {},
   "source": [
    "These look exactly the same, as we would expect!\n",
    "\n",
    "Now let's permute the flux cube again, this time inverting the axes order entirely to be `[x, y, wavelength]` (where it originally was `[wavelength, y, x]`):"
   ]
  },
  {
   "cell_type": "code",
   "execution_count": null,
   "metadata": {},
   "outputs": [],
   "source": [
    "cube_crop_transp2 = np.transpose(cube_crop, axes=[]) # COMPLETE THIS LINE OF CODE"
   ]
  },
  {
   "cell_type": "code",
   "execution_count": null,
   "metadata": {},
   "outputs": [],
   "source": [
    "cube_crop_transp2.shape"
   ]
  },
  {
   "cell_type": "code",
   "execution_count": null,
   "metadata": {},
   "outputs": [],
   "source": [
    "ha_inds = [2711, 2715]\n",
    "\n",
    "f, axes = plt.subplots(1,2)\n",
    "\n",
    "# Reminder: axes order [wavelength, y, x]\n",
    "axes[0].imshow(np.sum(cube_crop[],axis=), origin='lower') # COMPLETE THIS LINE OF CODE\n",
    "axes[0].set_title('Cube, orig')\n",
    "\n",
    "# TRANSPOSED axes order #2 [x, y, wavelength]\n",
    "axes[1].imshow(np.sum(cube_crop_transp2[],axis=), origin='lower') # COMPLETE THIS LINE OF CODE\n",
    "axes[1].set_title('Cube, transp 2')\n"
   ]
  },
  {
   "cell_type": "markdown",
   "metadata": {},
   "source": [
    "While our wavelength axis is the same as the above transposed cube, this new cube also exhibits a transposition in the x-y plane!"
   ]
  },
  {
   "cell_type": "markdown",
   "metadata": {},
   "source": [
    "Want to see more (and prettier) pictures of galaxies?  \n",
    "Check out [legacysurvey.org](http://legacysurvey.org/viewer)!"
   ]
  }
 ],
 "metadata": {
  "kernelspec": {
   "display_name": "Python 3 (ipykernel)",
   "language": "python",
   "name": "python3"
  },
  "language_info": {
   "codemirror_mode": {
    "name": "ipython",
    "version": 3
   },
   "file_extension": ".py",
   "mimetype": "text/x-python",
   "name": "python",
   "nbconvert_exporter": "python",
   "pygments_lexer": "ipython3",
   "version": "3.10.2"
  }
 },
 "nbformat": 4,
 "nbformat_minor": 4
}
